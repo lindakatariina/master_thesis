{
 "cells": [
  {
   "cell_type": "markdown",
   "metadata": {
    "id": "PVXdPFDRl9Pt"
   },
   "source": [
    "NOTE: If some rows are commented out, it means that it is done for data protection reasons not to display unique id's of the posts. In the process of the work, these lines were used. Also some descriptive lines where id-s were displayed were eliminated from this file for security reasons but were a part of the work."
   ]
  },
  {
   "cell_type": "markdown",
   "metadata": {
    "id": "QLCHeQfHTjkP"
   },
   "source": [
    "# Importing necessary packages"
   ]
  },
  {
   "cell_type": "code",
   "execution_count": 1,
   "metadata": {
    "id": "LXv3HTFASTCX"
   },
   "outputs": [],
   "source": [
    "import pandas as pd\n",
    "import numpy as np\n",
    "import copy\n",
    "import json\n",
    "import matplotlib.pyplot as plt\n",
    "import seaborn as sns; sns.set_theme()\n",
    "from sklearn.metrics import cohen_kappa_score\n",
    "from sklearn.pipeline import Pipeline\n",
    "from sklearn.feature_extraction.text import TfidfTransformer, CountVectorizer\n",
    "from sklearn.metrics import confusion_matrix\n",
    "from sklearn.feature_extraction.text import TfidfVectorizer\n",
    "from sklearn.model_selection import train_test_split\n",
    "from nltk.metrics.agreement import AnnotationTask\n",
    "from nltk.metrics import masi_distance, jaccard_distance"
   ]
  },
  {
   "cell_type": "markdown",
   "metadata": {
    "id": "pQj6tIMQbONo"
   },
   "source": [
    "# Data Preparation"
   ]
  },
  {
   "cell_type": "markdown",
   "metadata": {
    "id": "z2d8aO5ASTux"
   },
   "source": [
    "## Initial investigation and preparation"
   ]
  },
  {
   "cell_type": "code",
   "execution_count": 2,
   "metadata": {
    "id": "SL5EF2nKbRsK"
   },
   "outputs": [],
   "source": [
    "#READING IN DATA FROM FILES\n",
    "GAD0_0 = pd.read_json('Reddit_GAD0_0.json', lines = True)\n",
    "GAD0_1 = pd.read_json('Reddit_GAD0_1.json', lines = True)\n",
    "GAD1_0 = pd.read_json('Reddit_GAD1_0.json', lines = True)\n",
    "GAD1_1 = pd.read_json('Reddit_GAD1_1.json', lines = True)\n",
    "GAD2_0 = pd.read_json('Reddit_GAD2_0.json', lines = True)\n",
    "GAD2_1 = pd.read_json('Reddit_GAD2_1.json', lines = True)\n",
    "GAD3_0 = pd.read_json('Reddit_GAD3_0.json', lines = True)\n",
    "GAD3_1 = pd.read_json('Reddit_GAD3_1.json', lines = True)\n",
    "GAD4_0 = pd.read_json('Reddit_GAD4_0.json', lines = True)\n",
    "GAD4_1 = pd.read_json('Reddit_GAD4_1.json', lines = True)"
   ]
  },
  {
   "cell_type": "markdown",
   "metadata": {
    "id": "youwgC5zb2vK"
   },
   "source": [
    "***Annotator 1 dataset***"
   ]
  },
  {
   "cell_type": "code",
   "execution_count": 3,
   "metadata": {
    "id": "XPB4-99p8g6u"
   },
   "outputs": [],
   "source": [
    "GAD0 = GAD0_0.append([GAD1_0, GAD2_0, GAD3_0, GAD4_0])"
   ]
  },
  {
   "cell_type": "code",
   "execution_count": 4,
   "metadata": {
    "id": "xkPLp99SEZsi"
   },
   "outputs": [],
   "source": [
    "#PREPARE ANNOTATOR 1 DATASET WITH NONE TYPES IN LABEL, NOTE COLUMN\n",
    "\n",
    "#SEPARATE CONTENT COLUMN INTO TWO COLUMNS: UNIQUE_ID AND TEXT\n",
    "GAD0['unique_id'] = GAD0.content.str.split('\\n', expand = True)[0]\n",
    "GAD0['text'] = GAD0.content.str.split('\\n',1, expand = True)[1]\n",
    "\n",
    "GAD0['label_1'] = GAD0['annotation'].map(lambda x: x if x == None else x['labels'])\n",
    "GAD0['note_1'] = GAD0['annotation'].map(lambda x: x if x == None else x['note'])\n",
    "\n",
    "#DROP UNNECESSARY COLUMNS\n",
    "GAD0 = GAD0.drop(['content', 'annotation', 'extras', 'metadata'], axis = 1)"
   ]
  },
  {
   "cell_type": "markdown",
   "metadata": {
    "id": "ryT4zxjeb-ic"
   },
   "source": [
    "***Annotator 2 dataset***"
   ]
  },
  {
   "cell_type": "code",
   "execution_count": 5,
   "metadata": {
    "id": "_WRW_o2e86TJ"
   },
   "outputs": [],
   "source": [
    "GAD1 = GAD0_1.append([GAD1_1, GAD2_1, GAD3_1, GAD4_1])\n",
    "#EXAMPLE PRINT\n",
    "#GAD1.head()"
   ]
  },
  {
   "cell_type": "code",
   "execution_count": 6,
   "metadata": {
    "id": "fWVMKIGIHbEe"
   },
   "outputs": [],
   "source": [
    "#PREPARE ANNOTATOR 2 DATASET WITH NONE TYPES IN LABEL, NOTE COLUMN\n",
    "\n",
    "#SEPARATE CONTENT COLUMN INTO TWO COLUMNS: UNIQUE_ID AND TEXT\n",
    "GAD1['unique_id'] = GAD1.content.str.split('\\n', expand = True)[0]\n",
    "GAD1['text'] = GAD1.content.str.split('\\n',1, expand = True)[1]\n",
    "\n",
    "GAD1['label_2'] = GAD1['annotation'].map(lambda x: x if x == None else x['labels'])\n",
    "GAD1['note_2'] = GAD1['annotation'].map(lambda x: x if x == None else x['note'])\n",
    "\n",
    "#DROP UNNECESSARY COLUMNS\n",
    "GAD1 = GAD1.drop(['content', 'annotation', 'extras', 'metadata'], axis = 1)\n",
    "\n",
    "#HAVE A LOOK AT THE FINAL DATAFRAME\n",
    "#GAD1.head()"
   ]
  },
  {
   "cell_type": "markdown",
   "metadata": {
    "id": "Jtbaa-oYforD"
   },
   "source": [
    "***Merge Annotator1 and Annotator2 data into one dataframe***"
   ]
  },
  {
   "cell_type": "code",
   "execution_count": 7,
   "metadata": {
    "id": "s1XoYbXbd7mV"
   },
   "outputs": [],
   "source": [
    "df_both_annotators = pd.merge(GAD0, GAD1, on=['unique_id', 'text'], how='inner')\n",
    "#df_both_annotators.head()"
   ]
  },
  {
   "cell_type": "code",
   "execution_count": 8,
   "metadata": {
    "id": "7mzGVCYgJvSd"
   },
   "outputs": [],
   "source": [
    "#SOME LABELS ARE OF NONE TYPE\n",
    "#df_both_annotators[df_both_annotators['label_1'].isna()]"
   ]
  },
  {
   "cell_type": "code",
   "execution_count": 9,
   "metadata": {
    "id": "p9vWC1KOJ2nH"
   },
   "outputs": [],
   "source": [
    "#SOME LABELS ARE OF NONE TYPE\n",
    "#df_both_annotators[df_both_annotators['label_2'].isna()]"
   ]
  },
  {
   "cell_type": "code",
   "execution_count": 10,
   "metadata": {
    "id": "sQuzvPGQIz2Y"
   },
   "outputs": [],
   "source": [
    "#SOME LABELS ARE JUST '[]' -> LEAVING THESE IN THE DATASET\n",
    "#df_both_annotators[df_both_annotators.astype(str)['label_1'] == '[]']"
   ]
  },
  {
   "cell_type": "code",
   "execution_count": 11,
   "metadata": {
    "id": "bpTm-0LJI6QF"
   },
   "outputs": [],
   "source": [
    "#SOME LABELS ARE JUST '[]' -> LEAVING THESE IN THE DATASET\n",
    "#df_both_annotators[df_both_annotators.astype(str)['label_1'] == '[]']\n",
    "#df_both_annotators[df_both_annotators.astype(str)['label_2'] == '[]']"
   ]
  },
  {
   "cell_type": "code",
   "execution_count": 12,
   "metadata": {
    "id": "Wd1N_svRUwMT"
   },
   "outputs": [],
   "source": [
    "#SORTING LABELS IN ALPHABETICAL ORDERING -> NEEDED FOR INVESTIGATING HOW MUCH AND WHICH UNIQUE LABELS I HAVE (GROUPING ROWS TOGETHER)\n",
    "df_both_annotators['label_1'] = df_both_annotators['label_1'].map(lambda x: x if x == None else sorted(x)) \n",
    "df_both_annotators['label_2'] = df_both_annotators['label_2'].map(lambda x: x if x == None else sorted(x)) "
   ]
  },
  {
   "cell_type": "code",
   "execution_count": 13,
   "metadata": {
    "id": "sa74iJdtxfyb"
   },
   "outputs": [],
   "source": [
    "#I replace [, 'Not Distorted'] value just with ['Not Distorted'] in one row\n",
    "df_both_annotators.at[308, 'label_2'] = ['Not Distorted']"
   ]
  },
  {
   "cell_type": "code",
   "execution_count": 14,
   "metadata": {
    "id": "-c5SISpCVxiA"
   },
   "outputs": [],
   "source": [
    "#df_both_annotators.head()"
   ]
  },
  {
   "cell_type": "code",
   "execution_count": 15,
   "metadata": {
    "colab": {
     "base_uri": "https://localhost:8080/"
    },
    "id": "EKw129DWTLvi",
    "outputId": "6f52da6a-7bb1-412c-93c1-a5fc8e536130"
   },
   "outputs": [
    {
     "name": "stdout",
     "output_type": "stream",
     "text": [
      "                                             labels_1  count_1\n",
      "0                                     [Not Distorted]      239\n",
      "1                                   [Catastrophizing]      109\n",
      "2                               [Arbitrary Inference]       40\n",
      "3                                          [Labeling]       23\n",
      "4                                [Overgeneralization]       21\n",
      "5                                   [Personalization]       18\n",
      "6                             [Selective Abstraction]       15\n",
      "7                          [Black and White Thinking]       13\n",
      "8              [Arbitrary Inference, Catastrophizing]        2\n",
      "9         [Black and White Thinking, Catastrophizing]        2\n",
      "10               [Black and White Thinking, Labeling]        2\n",
      "11                     [Labeling, Overgeneralization]        1\n",
      "12           [Catastrophizing, Selective Abstraction]        1\n",
      "13                    [Arbitrary Inference, Labeling]        1\n",
      "14  [Arbitrary Inference, Catastrophizing, Labelin...        1\n",
      "15    [Arbitrary Inference, Black and White Thinking]        1\n",
      "16              [Catastrophizing, Overgeneralization]        1\n",
      "17                                                 []        1\n",
      "\n",
      "\n",
      "There are 239 (49.0%) not distorted labels and 252 (51.0%) distorted labels marked by annotator 1\n"
     ]
    }
   ],
   "source": [
    "#DISTRIBUTION OF LABELS FOR ANNOTATOR 1\n",
    "df_count_label_1 = pd.DataFrame(df_both_annotators.label_1.value_counts()).rename_axis('labels_1').reset_index().rename(columns = {'label_1': 'count_1'})\n",
    "not_distorted_count_1 = df_count_label_1.iloc[0]['count_1']\n",
    "distorted_count_df_1 = df_count_label_1.drop([0])\n",
    "distorted_count_1 = distorted_count_df_1['count_1'].sum()\n",
    "\n",
    "not_distorted_perc_1 = round(not_distorted_count_1/(not_distorted_count_1+distorted_count_1)*100,0)\n",
    "distorted_perc_1 = round(distorted_count_1/(not_distorted_count_1+distorted_count_1)*100,0)\n",
    "\n",
    "print(df_count_label_1)\n",
    "\n",
    "print('\\n')\n",
    "print(\"There are\", not_distorted_count_1, str(\"(\" + str(not_distorted_perc_1) + \"%)\"), \"not distorted labels and\", distorted_count_1, str(\"(\" + str(distorted_perc_1) + \"%)\"), \"distorted labels marked by annotator 1\" )"
   ]
  },
  {
   "cell_type": "code",
   "execution_count": 16,
   "metadata": {
    "colab": {
     "base_uri": "https://localhost:8080/"
    },
    "id": "uegccjehLtlk",
    "outputId": "2d9c4f31-a639-4712-907c-0339df58c02e"
   },
   "outputs": [
    {
     "name": "stdout",
     "output_type": "stream",
     "text": [
      "358 ['Not Distorted', 'Personalization']\n"
     ]
    }
   ],
   "source": [
    "for idx, element in enumerate(df_both_annotators['label_2']):\n",
    "  if element == ['Not Distorted', 'Personalization']:\n",
    "    print(idx, element)\n",
    "\n",
    "#print(df_both_annotators.iloc[[358]])\n",
    "\n",
    "#I replace ['Not Distorted', 'Personalization'] value with ['Not Distorted']\n",
    "df_both_annotators.at[358, 'label_2'] = ['Not Distorted']"
   ]
  },
  {
   "cell_type": "code",
   "execution_count": 17,
   "metadata": {
    "colab": {
     "base_uri": "https://localhost:8080/"
    },
    "id": "0VR0glzuR4ZV",
    "outputId": "a412cf43-2655-488a-c7ad-ef5c33aefa15"
   },
   "outputs": [
    {
     "name": "stdout",
     "output_type": "stream",
     "text": [
      "                                             labels_2  count_2\n",
      "0                                     [Not Distorted]      235\n",
      "1                                   [Catastrophizing]       93\n",
      "2                               [Arbitrary Inference]       41\n",
      "3                                          [Labeling]       33\n",
      "4                                   [Personalization]       28\n",
      "5                                [Overgeneralization]       28\n",
      "6                             [Selective Abstraction]       15\n",
      "7                                                  []        3\n",
      "8                          [Black and White Thinking]        3\n",
      "9              [Arbitrary Inference, Catastrophizing]        2\n",
      "10  [Labeling, Overgeneralization, Selective Abstr...        2\n",
      "11                    [Arbitrary Inference, Labeling]        2\n",
      "12  [Arbitrary Inference, Black and White Thinking...        1\n",
      "13                     [Labeling, Overgeneralization]        1\n",
      "14              [Catastrophizing, Overgeneralization]        1\n",
      "15                  [Labeling, Selective Abstraction]        1\n",
      "\n",
      "\n",
      "There are 235 (48.0%) not distorted labels and 254 (52.0%) distorted labels marked by annotator 2\n"
     ]
    }
   ],
   "source": [
    "#DISTRIBUTION OF LABELS FOR ANNOTATOR 2\n",
    "df_count_label_2 = pd.DataFrame(df_both_annotators.label_2.value_counts()).rename_axis('labels_2').reset_index().rename(columns = {'label_2': 'count_2'})\n",
    "not_distorted_count_2 = df_count_label_2.iloc[0]['count_2']\n",
    "distorted_count_df_2 = df_count_label_2.drop([0])\n",
    "distorted_count_2 = distorted_count_df_2['count_2'].sum()\n",
    "\n",
    "not_distorted_perc_2 = round(not_distorted_count_2/(not_distorted_count_2+distorted_count_2)*100,0)\n",
    "distorted_perc_2 = round(distorted_count_2/(not_distorted_count_2+distorted_count_2)*100,0)\n",
    "\n",
    "print(df_count_label_2)\n",
    "\n",
    "print('\\n')\n",
    "print(\"There are\", not_distorted_count_2, str(\"(\" + str(not_distorted_perc_2) + \"%)\"), \"not distorted labels and\", distorted_count_2, str(\"(\" + str(distorted_perc_2) + \"%)\"), \"distorted labels marked by annotator 2\" )"
   ]
  },
  {
   "cell_type": "code",
   "execution_count": 18,
   "metadata": {
    "id": "pF5hNcHaoJe7"
   },
   "outputs": [],
   "source": [
    "#Annotator_1\n",
    "df_count_label_1['labels_1'] = df_count_label_1['labels_1'].apply(lambda x: ['Multiple labels'] if len(x)>1 else x)\n",
    "df_count_label_1['labels_1'] = df_count_label_1['labels_1'].apply(lambda x: ','.join(map(str, x)))"
   ]
  },
  {
   "cell_type": "code",
   "execution_count": 19,
   "metadata": {
    "id": "NJogFQbFrA_8"
   },
   "outputs": [],
   "source": [
    "#Annotator_2\n",
    "df_count_label_2['labels_2'] = df_count_label_2['labels_2'].apply(lambda x: ['Multiple labels'] if len(x)>1 else x)\n",
    "df_count_label_2['labels_2'] = df_count_label_2['labels_2'].apply(lambda x: ','.join(map(str, x)))"
   ]
  },
  {
   "cell_type": "code",
   "execution_count": 20,
   "metadata": {
    "id": "amw_RDKUsIFf"
   },
   "outputs": [],
   "source": [
    "#df_count_label_1.to_excel(\"annotator_1.xlsx\") "
   ]
  },
  {
   "cell_type": "code",
   "execution_count": 21,
   "metadata": {
    "id": "Xjw_MFwQsiLF"
   },
   "outputs": [],
   "source": [
    "#df_count_label_2.to_excel(\"annotator_2.xlsx\") "
   ]
  },
  {
   "cell_type": "code",
   "execution_count": 22,
   "metadata": {
    "colab": {
     "base_uri": "https://localhost:8080/",
     "height": 331
    },
    "id": "drKMhz21vPh6",
    "outputId": "9767945c-9321-43d0-93bd-065893a55bb2"
   },
   "outputs": [
    {
     "data": {
      "text/html": [
       "\n",
       "  <div id=\"df-68a2ca5c-23c6-4350-9250-012a11ad09a3\">\n",
       "    <div class=\"colab-df-container\">\n",
       "      <div>\n",
       "<style scoped>\n",
       "    .dataframe tbody tr th:only-of-type {\n",
       "        vertical-align: middle;\n",
       "    }\n",
       "\n",
       "    .dataframe tbody tr th {\n",
       "        vertical-align: top;\n",
       "    }\n",
       "\n",
       "    .dataframe thead th {\n",
       "        text-align: right;\n",
       "    }\n",
       "</style>\n",
       "<table border=\"1\" class=\"dataframe\">\n",
       "  <thead>\n",
       "    <tr style=\"text-align: right;\">\n",
       "      <th></th>\n",
       "      <th>Labels</th>\n",
       "      <th>Annotator_1</th>\n",
       "    </tr>\n",
       "  </thead>\n",
       "  <tbody>\n",
       "    <tr>\n",
       "      <th>0</th>\n",
       "      <td>Not Distorted</td>\n",
       "      <td>239</td>\n",
       "    </tr>\n",
       "    <tr>\n",
       "      <th>1</th>\n",
       "      <td>Catastrophizing</td>\n",
       "      <td>109</td>\n",
       "    </tr>\n",
       "    <tr>\n",
       "      <th>2</th>\n",
       "      <td>Arbitrary Inference</td>\n",
       "      <td>40</td>\n",
       "    </tr>\n",
       "    <tr>\n",
       "      <th>3</th>\n",
       "      <td>Labeling</td>\n",
       "      <td>23</td>\n",
       "    </tr>\n",
       "    <tr>\n",
       "      <th>4</th>\n",
       "      <td>Overgeneralization</td>\n",
       "      <td>21</td>\n",
       "    </tr>\n",
       "    <tr>\n",
       "      <th>5</th>\n",
       "      <td>Personalization</td>\n",
       "      <td>18</td>\n",
       "    </tr>\n",
       "    <tr>\n",
       "      <th>6</th>\n",
       "      <td>Selective Abstraction</td>\n",
       "      <td>15</td>\n",
       "    </tr>\n",
       "    <tr>\n",
       "      <th>7</th>\n",
       "      <td>Black and White Thinking</td>\n",
       "      <td>13</td>\n",
       "    </tr>\n",
       "    <tr>\n",
       "      <th>8</th>\n",
       "      <td>Multiple labels</td>\n",
       "      <td>12</td>\n",
       "    </tr>\n",
       "  </tbody>\n",
       "</table>\n",
       "</div>\n",
       "      <button class=\"colab-df-convert\" onclick=\"convertToInteractive('df-68a2ca5c-23c6-4350-9250-012a11ad09a3')\"\n",
       "              title=\"Convert this dataframe to an interactive table.\"\n",
       "              style=\"display:none;\">\n",
       "        \n",
       "  <svg xmlns=\"http://www.w3.org/2000/svg\" height=\"24px\"viewBox=\"0 0 24 24\"\n",
       "       width=\"24px\">\n",
       "    <path d=\"M0 0h24v24H0V0z\" fill=\"none\"/>\n",
       "    <path d=\"M18.56 5.44l.94 2.06.94-2.06 2.06-.94-2.06-.94-.94-2.06-.94 2.06-2.06.94zm-11 1L8.5 8.5l.94-2.06 2.06-.94-2.06-.94L8.5 2.5l-.94 2.06-2.06.94zm10 10l.94 2.06.94-2.06 2.06-.94-2.06-.94-.94-2.06-.94 2.06-2.06.94z\"/><path d=\"M17.41 7.96l-1.37-1.37c-.4-.4-.92-.59-1.43-.59-.52 0-1.04.2-1.43.59L10.3 9.45l-7.72 7.72c-.78.78-.78 2.05 0 2.83L4 21.41c.39.39.9.59 1.41.59.51 0 1.02-.2 1.41-.59l7.78-7.78 2.81-2.81c.8-.78.8-2.07 0-2.86zM5.41 20L4 18.59l7.72-7.72 1.47 1.35L5.41 20z\"/>\n",
       "  </svg>\n",
       "      </button>\n",
       "      \n",
       "  <style>\n",
       "    .colab-df-container {\n",
       "      display:flex;\n",
       "      flex-wrap:wrap;\n",
       "      gap: 12px;\n",
       "    }\n",
       "\n",
       "    .colab-df-convert {\n",
       "      background-color: #E8F0FE;\n",
       "      border: none;\n",
       "      border-radius: 50%;\n",
       "      cursor: pointer;\n",
       "      display: none;\n",
       "      fill: #1967D2;\n",
       "      height: 32px;\n",
       "      padding: 0 0 0 0;\n",
       "      width: 32px;\n",
       "    }\n",
       "\n",
       "    .colab-df-convert:hover {\n",
       "      background-color: #E2EBFA;\n",
       "      box-shadow: 0px 1px 2px rgba(60, 64, 67, 0.3), 0px 1px 3px 1px rgba(60, 64, 67, 0.15);\n",
       "      fill: #174EA6;\n",
       "    }\n",
       "\n",
       "    [theme=dark] .colab-df-convert {\n",
       "      background-color: #3B4455;\n",
       "      fill: #D2E3FC;\n",
       "    }\n",
       "\n",
       "    [theme=dark] .colab-df-convert:hover {\n",
       "      background-color: #434B5C;\n",
       "      box-shadow: 0px 1px 3px 1px rgba(0, 0, 0, 0.15);\n",
       "      filter: drop-shadow(0px 1px 2px rgba(0, 0, 0, 0.3));\n",
       "      fill: #FFFFFF;\n",
       "    }\n",
       "  </style>\n",
       "\n",
       "      <script>\n",
       "        const buttonEl =\n",
       "          document.querySelector('#df-68a2ca5c-23c6-4350-9250-012a11ad09a3 button.colab-df-convert');\n",
       "        buttonEl.style.display =\n",
       "          google.colab.kernel.accessAllowed ? 'block' : 'none';\n",
       "\n",
       "        async function convertToInteractive(key) {\n",
       "          const element = document.querySelector('#df-68a2ca5c-23c6-4350-9250-012a11ad09a3');\n",
       "          const dataTable =\n",
       "            await google.colab.kernel.invokeFunction('convertToInteractive',\n",
       "                                                     [key], {});\n",
       "          if (!dataTable) return;\n",
       "\n",
       "          const docLinkHtml = 'Like what you see? Visit the ' +\n",
       "            '<a target=\"_blank\" href=https://colab.research.google.com/notebooks/data_table.ipynb>data table notebook</a>'\n",
       "            + ' to learn more about interactive tables.';\n",
       "          element.innerHTML = '';\n",
       "          dataTable['output_type'] = 'display_data';\n",
       "          await google.colab.output.renderOutput(dataTable, element);\n",
       "          const docLink = document.createElement('div');\n",
       "          docLink.innerHTML = docLinkHtml;\n",
       "          element.appendChild(docLink);\n",
       "        }\n",
       "      </script>\n",
       "    </div>\n",
       "  </div>\n",
       "  "
      ],
      "text/plain": [
       "                     Labels  Annotator_1\n",
       "0             Not Distorted          239\n",
       "1           Catastrophizing          109\n",
       "2       Arbitrary Inference           40\n",
       "3                  Labeling           23\n",
       "4        Overgeneralization           21\n",
       "5           Personalization           18\n",
       "6     Selective Abstraction           15\n",
       "7  Black and White Thinking           13\n",
       "8           Multiple labels           12"
      ]
     },
     "execution_count": 22,
     "metadata": {},
     "output_type": "execute_result"
    }
   ],
   "source": [
    "frequencies_1 = pd.read_excel('labelid.xlsx', sheet_name='Sheet1')\n",
    "frequencies_1"
   ]
  },
  {
   "cell_type": "code",
   "execution_count": 23,
   "metadata": {
    "colab": {
     "base_uri": "https://localhost:8080/",
     "height": 331
    },
    "id": "PHxPW7JywdM4",
    "outputId": "323e24b4-6b4f-49fe-eaac-3b3f37640102"
   },
   "outputs": [
    {
     "data": {
      "text/html": [
       "\n",
       "  <div id=\"df-148bc794-68d8-4d5c-8d8c-60392612af5b\">\n",
       "    <div class=\"colab-df-container\">\n",
       "      <div>\n",
       "<style scoped>\n",
       "    .dataframe tbody tr th:only-of-type {\n",
       "        vertical-align: middle;\n",
       "    }\n",
       "\n",
       "    .dataframe tbody tr th {\n",
       "        vertical-align: top;\n",
       "    }\n",
       "\n",
       "    .dataframe thead th {\n",
       "        text-align: right;\n",
       "    }\n",
       "</style>\n",
       "<table border=\"1\" class=\"dataframe\">\n",
       "  <thead>\n",
       "    <tr style=\"text-align: right;\">\n",
       "      <th></th>\n",
       "      <th>Labels</th>\n",
       "      <th>Annotator_2</th>\n",
       "    </tr>\n",
       "  </thead>\n",
       "  <tbody>\n",
       "    <tr>\n",
       "      <th>0</th>\n",
       "      <td>Not Distorted</td>\n",
       "      <td>235</td>\n",
       "    </tr>\n",
       "    <tr>\n",
       "      <th>1</th>\n",
       "      <td>Catastrophizing</td>\n",
       "      <td>93</td>\n",
       "    </tr>\n",
       "    <tr>\n",
       "      <th>2</th>\n",
       "      <td>Arbitrary Inference</td>\n",
       "      <td>41</td>\n",
       "    </tr>\n",
       "    <tr>\n",
       "      <th>3</th>\n",
       "      <td>Labeling</td>\n",
       "      <td>33</td>\n",
       "    </tr>\n",
       "    <tr>\n",
       "      <th>4</th>\n",
       "      <td>Overgeneralization</td>\n",
       "      <td>28</td>\n",
       "    </tr>\n",
       "    <tr>\n",
       "      <th>5</th>\n",
       "      <td>Personalization</td>\n",
       "      <td>28</td>\n",
       "    </tr>\n",
       "    <tr>\n",
       "      <th>6</th>\n",
       "      <td>Selective Abstraction</td>\n",
       "      <td>15</td>\n",
       "    </tr>\n",
       "    <tr>\n",
       "      <th>7</th>\n",
       "      <td>Black and White Thinking</td>\n",
       "      <td>3</td>\n",
       "    </tr>\n",
       "    <tr>\n",
       "      <th>8</th>\n",
       "      <td>Multiple labels</td>\n",
       "      <td>10</td>\n",
       "    </tr>\n",
       "  </tbody>\n",
       "</table>\n",
       "</div>\n",
       "      <button class=\"colab-df-convert\" onclick=\"convertToInteractive('df-148bc794-68d8-4d5c-8d8c-60392612af5b')\"\n",
       "              title=\"Convert this dataframe to an interactive table.\"\n",
       "              style=\"display:none;\">\n",
       "        \n",
       "  <svg xmlns=\"http://www.w3.org/2000/svg\" height=\"24px\"viewBox=\"0 0 24 24\"\n",
       "       width=\"24px\">\n",
       "    <path d=\"M0 0h24v24H0V0z\" fill=\"none\"/>\n",
       "    <path d=\"M18.56 5.44l.94 2.06.94-2.06 2.06-.94-2.06-.94-.94-2.06-.94 2.06-2.06.94zm-11 1L8.5 8.5l.94-2.06 2.06-.94-2.06-.94L8.5 2.5l-.94 2.06-2.06.94zm10 10l.94 2.06.94-2.06 2.06-.94-2.06-.94-.94-2.06-.94 2.06-2.06.94z\"/><path d=\"M17.41 7.96l-1.37-1.37c-.4-.4-.92-.59-1.43-.59-.52 0-1.04.2-1.43.59L10.3 9.45l-7.72 7.72c-.78.78-.78 2.05 0 2.83L4 21.41c.39.39.9.59 1.41.59.51 0 1.02-.2 1.41-.59l7.78-7.78 2.81-2.81c.8-.78.8-2.07 0-2.86zM5.41 20L4 18.59l7.72-7.72 1.47 1.35L5.41 20z\"/>\n",
       "  </svg>\n",
       "      </button>\n",
       "      \n",
       "  <style>\n",
       "    .colab-df-container {\n",
       "      display:flex;\n",
       "      flex-wrap:wrap;\n",
       "      gap: 12px;\n",
       "    }\n",
       "\n",
       "    .colab-df-convert {\n",
       "      background-color: #E8F0FE;\n",
       "      border: none;\n",
       "      border-radius: 50%;\n",
       "      cursor: pointer;\n",
       "      display: none;\n",
       "      fill: #1967D2;\n",
       "      height: 32px;\n",
       "      padding: 0 0 0 0;\n",
       "      width: 32px;\n",
       "    }\n",
       "\n",
       "    .colab-df-convert:hover {\n",
       "      background-color: #E2EBFA;\n",
       "      box-shadow: 0px 1px 2px rgba(60, 64, 67, 0.3), 0px 1px 3px 1px rgba(60, 64, 67, 0.15);\n",
       "      fill: #174EA6;\n",
       "    }\n",
       "\n",
       "    [theme=dark] .colab-df-convert {\n",
       "      background-color: #3B4455;\n",
       "      fill: #D2E3FC;\n",
       "    }\n",
       "\n",
       "    [theme=dark] .colab-df-convert:hover {\n",
       "      background-color: #434B5C;\n",
       "      box-shadow: 0px 1px 3px 1px rgba(0, 0, 0, 0.15);\n",
       "      filter: drop-shadow(0px 1px 2px rgba(0, 0, 0, 0.3));\n",
       "      fill: #FFFFFF;\n",
       "    }\n",
       "  </style>\n",
       "\n",
       "      <script>\n",
       "        const buttonEl =\n",
       "          document.querySelector('#df-148bc794-68d8-4d5c-8d8c-60392612af5b button.colab-df-convert');\n",
       "        buttonEl.style.display =\n",
       "          google.colab.kernel.accessAllowed ? 'block' : 'none';\n",
       "\n",
       "        async function convertToInteractive(key) {\n",
       "          const element = document.querySelector('#df-148bc794-68d8-4d5c-8d8c-60392612af5b');\n",
       "          const dataTable =\n",
       "            await google.colab.kernel.invokeFunction('convertToInteractive',\n",
       "                                                     [key], {});\n",
       "          if (!dataTable) return;\n",
       "\n",
       "          const docLinkHtml = 'Like what you see? Visit the ' +\n",
       "            '<a target=\"_blank\" href=https://colab.research.google.com/notebooks/data_table.ipynb>data table notebook</a>'\n",
       "            + ' to learn more about interactive tables.';\n",
       "          element.innerHTML = '';\n",
       "          dataTable['output_type'] = 'display_data';\n",
       "          await google.colab.output.renderOutput(dataTable, element);\n",
       "          const docLink = document.createElement('div');\n",
       "          docLink.innerHTML = docLinkHtml;\n",
       "          element.appendChild(docLink);\n",
       "        }\n",
       "      </script>\n",
       "    </div>\n",
       "  </div>\n",
       "  "
      ],
      "text/plain": [
       "                     Labels  Annotator_2\n",
       "0             Not Distorted          235\n",
       "1           Catastrophizing           93\n",
       "2       Arbitrary Inference           41\n",
       "3                  Labeling           33\n",
       "4        Overgeneralization           28\n",
       "5           Personalization           28\n",
       "6     Selective Abstraction           15\n",
       "7  Black and White Thinking            3\n",
       "8           Multiple labels           10"
      ]
     },
     "execution_count": 23,
     "metadata": {},
     "output_type": "execute_result"
    }
   ],
   "source": [
    "frequencies_2 = pd.read_excel('labelid.xlsx', sheet_name='Sheet2')\n",
    "frequencies_2"
   ]
  },
  {
   "cell_type": "markdown",
   "metadata": {
    "id": "YKG1_TbbHuoJ"
   },
   "source": [
    "Word cloud"
   ]
  },
  {
   "cell_type": "code",
   "execution_count": 24,
   "metadata": {
    "colab": {
     "base_uri": "https://localhost:8080/",
     "height": 248
    },
    "id": "o9NAlD_vJNZH",
    "outputId": "6fa3f1cd-2ce1-4072-f430-5c153904d3b6"
   },
   "outputs": [
    {
     "data": {
      "image/png": "[encoded data removed]",
      "text/plain": [
       "<Figure size 432x288 with 1 Axes>"
      ]
     },
     "metadata": {
      "needs_background": "light"
     },
     "output_type": "display_data"
    }
   ],
   "source": [
    "#source: https://towardsdatascience.com/create-word-cloud-into-any-shape-you-want-using-python-d0b88834bc32\n",
    "\n",
    "text = \" \".join(review for review in df_both_annotators.text)\n",
    "import numpy as np\n",
    "import pandas as pd\n",
    "from os import path\n",
    "from PIL import Image\n",
    "from wordcloud import WordCloud, STOPWORDS, ImageColorGenerator\n",
    "\n",
    "import matplotlib.pyplot as plt\n",
    "from PIL import Image\n",
    "import numpy as np\n",
    "import matplotlib.pyplot as plt\n",
    "\n",
    "mask = np.array(Image.open('cloud2.jpg'))\n",
    "wc = WordCloud(\n",
    "               mask=mask, background_color=\"white\",\n",
    "               max_words=50, max_font_size=256,\n",
    "               random_state=42, width=mask.shape[1],\n",
    "               height=mask.shape[0])\n",
    "wc.generate(text)\n",
    "plt.imshow(wc, interpolation=\"bilinear\")\n",
    "plt.axis('off')\n",
    "plt.show()"
   ]
  },
  {
   "cell_type": "markdown",
   "metadata": {
    "id": "I_fBWvQ2Sigm"
   },
   "source": [
    "## Cohen's Kappa"
   ]
  },
  {
   "cell_type": "code",
   "execution_count": 25,
   "metadata": {
    "id": "Os27qZbzhE1e"
   },
   "outputs": [],
   "source": [
    "#TRANSFORMING ANNOTATORS' LABELS INTO LISTS AND MAKING THEM INTO BINARY FORM\n",
    "labels_ann1 = list(df_both_annotators['label_1'])\n",
    "labels_ann2 = list(df_both_annotators['label_2'])\n",
    "\n",
    "labels_ann1_encoded = []\n",
    "labels_ann2_encoded = []\n",
    "\n",
    "\n",
    "for x in labels_ann1:\n",
    "  if x is not None:\n",
    "    if 'Not Distorted' in x:\n",
    "        labels_ann1_encoded.append('Not Distorted')\n",
    "    elif len(x) == 0:\n",
    "        labels_ann1_encoded.append(None)\n",
    "    else:\n",
    "      labels_ann1_encoded.append('Distorted')\n",
    "  else:\n",
    "      labels_ann1_encoded.append(None)\n",
    "\n",
    "for x in labels_ann2:\n",
    "  if x is not None:\n",
    "    if 'Not Distorted' in x:\n",
    "        labels_ann2_encoded.append('Not Distorted')\n",
    "    elif len(x) == 0:\n",
    "        labels_ann2_encoded.append(None)\n",
    "    else:\n",
    "      labels_ann2_encoded.append('Distorted')\n",
    "  else:\n",
    "      labels_ann2_encoded.append(None)"
   ]
  },
  {
   "cell_type": "code",
   "execution_count": 26,
   "metadata": {
    "id": "MYD1ljRuq6bt"
   },
   "outputs": [],
   "source": [
    "#TAKE A LOOK AT THE RESULT\n",
    "#print(len(labels_ann1_encoded))\n",
    "#print(labels_ann1_encoded)\n",
    "\n",
    "#print(len(labels_ann2_encoded))\n",
    "#print(labels_ann2_encoded)"
   ]
  },
  {
   "cell_type": "code",
   "execution_count": 27,
   "metadata": {
    "id": "OrgabDxPa98P"
   },
   "outputs": [],
   "source": [
    "#ADD LISTS TO DATASET AND LOOK AT THE RESULT\n",
    "df_both_annotators['label_1_encoded'] = pd.Series(labels_ann1_encoded)\n",
    "df_both_annotators['label_2_encoded'] = pd.Series(labels_ann2_encoded)\n",
    "#df_both_annotators.head()"
   ]
  },
  {
   "cell_type": "code",
   "execution_count": 28,
   "metadata": {
    "id": "N_8ko3p5axNK"
   },
   "outputs": [],
   "source": [
    "#PREPARING A CROSSTAB THAT WILL BE USED FOR CONFUSION MATRIX\n",
    "cross = pd.crosstab(df_both_annotators['label_1_encoded'], df_both_annotators['label_2_encoded'])"
   ]
  },
  {
   "cell_type": "code",
   "execution_count": 29,
   "metadata": {
    "colab": {
     "base_uri": "https://localhost:8080/",
     "height": 144
    },
    "id": "ApWjQBPJdSwK",
    "outputId": "f247986f-0c88-4eed-fd38-3634ff5183e9"
   },
   "outputs": [
    {
     "data": {
      "text/html": [
       "\n",
       "  <div id=\"df-b101c001-0922-47cc-80d1-88dd5500727f\">\n",
       "    <div class=\"colab-df-container\">\n",
       "      <div>\n",
       "<style scoped>\n",
       "    .dataframe tbody tr th:only-of-type {\n",
       "        vertical-align: middle;\n",
       "    }\n",
       "\n",
       "    .dataframe tbody tr th {\n",
       "        vertical-align: top;\n",
       "    }\n",
       "\n",
       "    .dataframe thead th {\n",
       "        text-align: right;\n",
       "    }\n",
       "</style>\n",
       "<table border=\"1\" class=\"dataframe\">\n",
       "  <thead>\n",
       "    <tr style=\"text-align: right;\">\n",
       "      <th>label_2_encoded</th>\n",
       "      <th>Distorted</th>\n",
       "      <th>Not Distorted</th>\n",
       "    </tr>\n",
       "    <tr>\n",
       "      <th>label_1_encoded</th>\n",
       "      <th></th>\n",
       "      <th></th>\n",
       "    </tr>\n",
       "  </thead>\n",
       "  <tbody>\n",
       "    <tr>\n",
       "      <th>Distorted</th>\n",
       "      <td>160</td>\n",
       "      <td>89</td>\n",
       "    </tr>\n",
       "    <tr>\n",
       "      <th>Not Distorted</th>\n",
       "      <td>86</td>\n",
       "      <td>145</td>\n",
       "    </tr>\n",
       "  </tbody>\n",
       "</table>\n",
       "</div>\n",
       "      <button class=\"colab-df-convert\" onclick=\"convertToInteractive('df-b101c001-0922-47cc-80d1-88dd5500727f')\"\n",
       "              title=\"Convert this dataframe to an interactive table.\"\n",
       "              style=\"display:none;\">\n",
       "        \n",
       "  <svg xmlns=\"http://www.w3.org/2000/svg\" height=\"24px\"viewBox=\"0 0 24 24\"\n",
       "       width=\"24px\">\n",
       "    <path d=\"M0 0h24v24H0V0z\" fill=\"none\"/>\n",
       "    <path d=\"M18.56 5.44l.94 2.06.94-2.06 2.06-.94-2.06-.94-.94-2.06-.94 2.06-2.06.94zm-11 1L8.5 8.5l.94-2.06 2.06-.94-2.06-.94L8.5 2.5l-.94 2.06-2.06.94zm10 10l.94 2.06.94-2.06 2.06-.94-2.06-.94-.94-2.06-.94 2.06-2.06.94z\"/><path d=\"M17.41 7.96l-1.37-1.37c-.4-.4-.92-.59-1.43-.59-.52 0-1.04.2-1.43.59L10.3 9.45l-7.72 7.72c-.78.78-.78 2.05 0 2.83L4 21.41c.39.39.9.59 1.41.59.51 0 1.02-.2 1.41-.59l7.78-7.78 2.81-2.81c.8-.78.8-2.07 0-2.86zM5.41 20L4 18.59l7.72-7.72 1.47 1.35L5.41 20z\"/>\n",
       "  </svg>\n",
       "      </button>\n",
       "      \n",
       "  <style>\n",
       "    .colab-df-container {\n",
       "      display:flex;\n",
       "      flex-wrap:wrap;\n",
       "      gap: 12px;\n",
       "    }\n",
       "\n",
       "    .colab-df-convert {\n",
       "      background-color: #E8F0FE;\n",
       "      border: none;\n",
       "      border-radius: 50%;\n",
       "      cursor: pointer;\n",
       "      display: none;\n",
       "      fill: #1967D2;\n",
       "      height: 32px;\n",
       "      padding: 0 0 0 0;\n",
       "      width: 32px;\n",
       "    }\n",
       "\n",
       "    .colab-df-convert:hover {\n",
       "      background-color: #E2EBFA;\n",
       "      box-shadow: 0px 1px 2px rgba(60, 64, 67, 0.3), 0px 1px 3px 1px rgba(60, 64, 67, 0.15);\n",
       "      fill: #174EA6;\n",
       "    }\n",
       "\n",
       "    [theme=dark] .colab-df-convert {\n",
       "      background-color: #3B4455;\n",
       "      fill: #D2E3FC;\n",
       "    }\n",
       "\n",
       "    [theme=dark] .colab-df-convert:hover {\n",
       "      background-color: #434B5C;\n",
       "      box-shadow: 0px 1px 3px 1px rgba(0, 0, 0, 0.15);\n",
       "      filter: drop-shadow(0px 1px 2px rgba(0, 0, 0, 0.3));\n",
       "      fill: #FFFFFF;\n",
       "    }\n",
       "  </style>\n",
       "\n",
       "      <script>\n",
       "        const buttonEl =\n",
       "          document.querySelector('#df-b101c001-0922-47cc-80d1-88dd5500727f button.colab-df-convert');\n",
       "        buttonEl.style.display =\n",
       "          google.colab.kernel.accessAllowed ? 'block' : 'none';\n",
       "\n",
       "        async function convertToInteractive(key) {\n",
       "          const element = document.querySelector('#df-b101c001-0922-47cc-80d1-88dd5500727f');\n",
       "          const dataTable =\n",
       "            await google.colab.kernel.invokeFunction('convertToInteractive',\n",
       "                                                     [key], {});\n",
       "          if (!dataTable) return;\n",
       "\n",
       "          const docLinkHtml = 'Like what you see? Visit the ' +\n",
       "            '<a target=\"_blank\" href=https://colab.research.google.com/notebooks/data_table.ipynb>data table notebook</a>'\n",
       "            + ' to learn more about interactive tables.';\n",
       "          element.innerHTML = '';\n",
       "          dataTable['output_type'] = 'display_data';\n",
       "          await google.colab.output.renderOutput(dataTable, element);\n",
       "          const docLink = document.createElement('div');\n",
       "          docLink.innerHTML = docLinkHtml;\n",
       "          element.appendChild(docLink);\n",
       "        }\n",
       "      </script>\n",
       "    </div>\n",
       "  </div>\n",
       "  "
      ],
      "text/plain": [
       "label_2_encoded  Distorted  Not Distorted\n",
       "label_1_encoded                          \n",
       "Distorted              160             89\n",
       "Not Distorted           86            145"
      ]
     },
     "execution_count": 29,
     "metadata": {},
     "output_type": "execute_result"
    }
   ],
   "source": [
    "#HAVING A LOOK AT THE RESULT\n",
    "cross "
   ]
  },
  {
   "cell_type": "code",
   "execution_count": 30,
   "metadata": {
    "id": "V9g7bkKvA3Od"
   },
   "outputs": [],
   "source": [
    "#CHANGE SOME COLUMNS NAMES FOR BETTER READABILITY FROM HEATMAP\n",
    "df_maatriks = copy.deepcopy(df_both_annotators)\n",
    "df_maatriks = df_maatriks.rename(columns={\"label_1_encoded\":\"Annotator_1\", \"label_2_encoded\":\"Annotator_2\"})\n",
    "agreement_matrix_binary = pd.crosstab(df_maatriks['Annotator_1'], df_maatriks['Annotator_2'])"
   ]
  },
  {
   "cell_type": "code",
   "execution_count": 31,
   "metadata": {
    "colab": {
     "base_uri": "https://localhost:8080/",
     "height": 452
    },
    "id": "bw3RwI33BIT_",
    "outputId": "f3b2131b-402b-4c56-fb05-a767d15a7fba"
   },
   "outputs": [
    {
     "data": {
      "image/png": "[encoded data removed]",
      "text/plain": [
       "<Figure size 792x504 with 2 Axes>"
      ]
     },
     "metadata": {
      "needs_background": "light"
     },
     "output_type": "display_data"
    }
   ],
   "source": [
    "#CREATE CONFUSION MATRIX HEATMAP\n",
    "fig, ax = plt.subplots(figsize=(11,7))\n",
    "ax = sns.heatmap(agreement_matrix_binary, cmap=\"Blues\", annot=True,fmt='g')"
   ]
  },
  {
   "cell_type": "code",
   "execution_count": 32,
   "metadata": {
    "colab": {
     "base_uri": "https://localhost:8080/"
    },
    "id": "Ygur3gVfeOh3",
    "outputId": "a9554414-a824-4f54-ae16-dfdc3ef32be0"
   },
   "outputs": [
    {
     "data": {
      "text/plain": [
       "0.27014909811281407"
      ]
     },
     "execution_count": 32,
     "metadata": {},
     "output_type": "execute_result"
    }
   ],
   "source": [
    "#I NEED TO FILTER OUT NULL VALUES IN ORDER TO CALCULATE COHEN'S KAPPA SCORE\n",
    "cohen_df = copy.deepcopy(df_both_annotators)\n",
    "cohen_df = cohen_df[cohen_df.label_1_encoded.notnull()]\n",
    "cohen_df = cohen_df[cohen_df.label_2_encoded.notnull()]\n",
    "\n",
    "#CALCULATING THE KAPPA SCORE\n",
    "cohen_kappa_score(cohen_df['label_1_encoded'], cohen_df['label_2_encoded'])\n",
    "\n",
    "#https://towardsdatascience.com/inter-rater-agreement-kappas-69cd8b91ff75 -> FAIR AGREEMENT!"
   ]
  },
  {
   "cell_type": "markdown",
   "metadata": {
    "id": "nHFsplemSxL7"
   },
   "source": [
    "## Label binarization"
   ]
  },
  {
   "cell_type": "markdown",
   "metadata": {
    "id": "yXmxsZHQnCiF"
   },
   "source": [
    "Will try to binarize the dataset labels"
   ]
  },
  {
   "cell_type": "code",
   "execution_count": 33,
   "metadata": {
    "id": "7EYoXbs9m_6k"
   },
   "outputs": [],
   "source": [
    "#ANNOTATOR 1 \n",
    "proov = copy.deepcopy(df_both_annotators)\n",
    "s = proov['label_1'].explode()\n",
    "hot_encoded = proov.join(pd.crosstab(s.index, s))\n",
    "hot_encoded = hot_encoded.where(pd.notnull(hot_encoded), None)\n",
    "#hot_encoded.head()"
   ]
  },
  {
   "cell_type": "code",
   "execution_count": 34,
   "metadata": {
    "id": "JrPH2_-axhCt"
   },
   "outputs": [],
   "source": [
    "#ANNOTATOR 2\n",
    "proov2 = copy.deepcopy(df_both_annotators)\n",
    "s2 = proov2['label_2'].explode()\n",
    "hot_encoded2 = proov2.join(pd.crosstab(s2.index, s2))\n",
    "hot_encoded2 = hot_encoded2.where(pd.notnull(hot_encoded2), None)\n",
    "#hot_encoded2.head()"
   ]
  },
  {
   "cell_type": "code",
   "execution_count": 35,
   "metadata": {
    "id": "IgEhLoV6zrM_"
   },
   "outputs": [],
   "source": [
    "#RENAME THE COLUMNS FOR BETTER UNDERSTANDING\n",
    "hot_encoded2 = hot_encoded2.rename(columns={'Arbitrary Inference': 'Arbitrary Inference2', 'Black and White Thinking': 'Black and White Thinking2', 'Catastrophizing': 'Catastrophizing2', 'Labeling': 'Labeling2', 'Not Distorted': 'Not Distorted2', 'Overgeneralization': 'Overgeneralization2', 'Personalization': 'Personalization2', 'Selective Abstraction': 'Selective Abstraction2'})"
   ]
  },
  {
   "cell_type": "code",
   "execution_count": 36,
   "metadata": {
    "id": "DGPFL5lh0MqO"
   },
   "outputs": [],
   "source": [
    "#hot_encoded2.head()"
   ]
  },
  {
   "cell_type": "markdown",
   "metadata": {
    "id": "b0ja0ToPyRKV"
   },
   "source": [
    "Join Annotator 1 + Annotator 2 hot_encoded dataframes into one"
   ]
  },
  {
   "cell_type": "code",
   "execution_count": 37,
   "metadata": {
    "id": "es6J7OIA7vM1"
   },
   "outputs": [],
   "source": [
    "hot_encoded_both = pd.merge(hot_encoded, hot_encoded2, on=['unique_id', 'text', 'note_1', 'note_2'], how = 'right')\n",
    "\n",
    "hot_encoded_both.pop('label_1_y')\n",
    "hot_encoded_both.pop('label_2_y')\n",
    "hot_encoded_both.pop('label_2_encoded_x')\n",
    "hot_encoded_both.pop('label_1_encoded_y')\n",
    "\n",
    "hot_encoded_both = hot_encoded_both.rename(columns = {'label_1_x': 'label_1', 'label_2_x': 'label_2', 'label_1_encoded_x': 'binary label_1', 'label_2_encoded_y': 'binary label_2'})\n",
    "#hot_encoded_both.head()"
   ]
  },
  {
   "cell_type": "markdown",
   "metadata": {
    "id": "AAlAdZeCS5Cx"
   },
   "source": [
    "## Krippendorff's Alpha calculation"
   ]
  },
  {
   "cell_type": "markdown",
   "metadata": {
    "id": "hvifFo7cbciN"
   },
   "source": [
    "Krippendorff's Alpha"
   ]
  },
  {
   "cell_type": "code",
   "execution_count": 38,
   "metadata": {
    "colab": {
     "base_uri": "https://localhost:8080/",
     "height": 122
    },
    "id": "j0QVm6Q-6Dv1",
    "outputId": "778b4133-6483-4399-d086-13e97ca67276"
   },
   "outputs": [
    {
     "name": "stdout",
     "output_type": "stream",
     "text": [
      "Requirement already satisfied: nltk==3.6.7 in /usr/local/lib/python3.7/dist-packages (3.6.7)\n",
      "Requirement already satisfied: click in /usr/local/lib/python3.7/dist-packages (from nltk==3.6.7) (7.1.2)\n",
      "Requirement already satisfied: regex>=2021.8.3 in /usr/local/lib/python3.7/dist-packages (from nltk==3.6.7) (2022.4.24)\n",
      "Requirement already satisfied: joblib in /usr/local/lib/python3.7/dist-packages (from nltk==3.6.7) (1.1.0)\n",
      "Requirement already satisfied: tqdm in /usr/local/lib/python3.7/dist-packages (from nltk==3.6.7) (4.64.0)\n"
     ]
    },
    {
     "data": {
      "application/vnd.google.colaboratory.intrinsic+json": {
       "type": "string"
      },
      "text/plain": [
       "'3.6.7'"
      ]
     },
     "execution_count": 38,
     "metadata": {},
     "output_type": "execute_result"
    }
   ],
   "source": [
    "#INSTALLING LATEST VERSION OF NLTK WHERE MASI DISTANCE HAS BEEN FIXED\n",
    "!pip install nltk==3.6.7 \n",
    "\n",
    "#ENSURING I GOT THE CORRECT VERSION\n",
    "import nltk\n",
    "nltk.__version__"
   ]
  },
  {
   "cell_type": "code",
   "execution_count": 39,
   "metadata": {
    "id": "FFQDsFPwdzx7"
   },
   "outputs": [],
   "source": [
    "kripp = []\n",
    "for idx, row in hot_encoded_both.iterrows():\n",
    "  if row['label_1'] == None or len(row['label_1']) == 0:\n",
    "    kripp.append(('1', str(idx), frozenset(['NONE'])))\n",
    "  elif row['label_1'] != None:\n",
    "    kripp.append(('1', str(idx), frozenset(row['label_1'])))\n",
    "  if row['label_2'] == None or len(row['label_2']) == 0:\n",
    "    kripp.append(('2', str(idx), frozenset(['NONE'])))\n",
    "  elif row['label_2'] != None:\n",
    "    kripp.append(('2', str(idx), frozenset(row['label_2'])))"
   ]
  },
  {
   "cell_type": "code",
   "execution_count": 40,
   "metadata": {
    "colab": {
     "base_uri": "https://localhost:8080/"
    },
    "id": "PbKfwZRZbtVe",
    "outputId": "2bd22a91-5ca5-4f44-eb19-422e9be745f3"
   },
   "outputs": [
    {
     "data": {
      "text/plain": [
       "[('1', '0', frozenset({'Catastrophizing'})),\n",
       " ('2', '0', frozenset({'Arbitrary Inference'})),\n",
       " ('1', '1', frozenset({'Catastrophizing'})),\n",
       " ('2', '1', frozenset({'Catastrophizing'})),\n",
       " ('1', '2', frozenset({'Personalization'})),\n",
       " ('2', '2', frozenset({'Labeling'}))]"
      ]
     },
     "execution_count": 40,
     "metadata": {},
     "output_type": "execute_result"
    }
   ],
   "source": [
    "kripp[:6]"
   ]
  },
  {
   "cell_type": "code",
   "execution_count": 41,
   "metadata": {
    "colab": {
     "base_uri": "https://localhost:8080/"
    },
    "id": "uVgjhLtFgh5z",
    "outputId": "0de40813-2da3-4310-e46d-bbfceac9f348"
   },
   "outputs": [
    {
     "name": "stdout",
     "output_type": "stream",
     "text": [
      "0.17733769141666889\n"
     ]
    }
   ],
   "source": [
    "task = AnnotationTask(kripp, distance = masi_distance)\n",
    "alpha = task.alpha()\n",
    "print(alpha)"
   ]
  },
  {
   "cell_type": "markdown",
   "metadata": {
    "id": "VGKmMhsRTAkO"
   },
   "source": [
    "## Cohen's Kappa for each label"
   ]
  },
  {
   "cell_type": "code",
   "execution_count": 42,
   "metadata": {
    "id": "0Z34Bv1wkmHJ"
   },
   "outputs": [],
   "source": [
    "labels = ['Arbitrary Inference', 'Black and White Thinking', \t'Catastrophizing',\t'Labeling',\t'Overgeneralization', 'Personalization',\t'Selective Abstraction']\n",
    "kappas = {'Arbitrary Inference':0, 'Black and White Thinking':0, \t'Catastrophizing':0,\t'Labeling':0,\t'Overgeneralization':0, 'Personalization':0,\t'Selective Abstraction':0}"
   ]
  },
  {
   "cell_type": "code",
   "execution_count": 43,
   "metadata": {
    "id": "W_FLHTI-lscc"
   },
   "outputs": [],
   "source": [
    "tuples2 = []\n",
    "\n",
    "for label in labels:\n",
    "  # iterate over the whole dataset and fill in the tuples\n",
    "  for row in kripp:\n",
    "    rowList = list(row)\n",
    "    if label in rowList[2]:\n",
    "      rowList[2] = 1\n",
    "    else:\n",
    "      rowList[2] = 0\n",
    "    tuples2.append(tuple(rowList))\n",
    "\n",
    "  # initialize AnnotationTask\n",
    "  task = AnnotationTask(data = tuples2)\n",
    "\n",
    "  # get the Fleiss' Kappa value\n",
    "  kappa = task.multi_kappa()\n",
    "  kappas[label] = kappa\n",
    "  tuples2 = []"
   ]
  },
  {
   "cell_type": "code",
   "execution_count": 44,
   "metadata": {
    "colab": {
     "base_uri": "https://localhost:8080/"
    },
    "id": "zxASXkdZl_pu",
    "outputId": "961f94b5-f7ef-44c5-d61b-05a4a044e696"
   },
   "outputs": [
    {
     "data": {
      "text/plain": [
       "{'Arbitrary Inference': -0.028393013952580638,\n",
       " 'Black and White Thinking': 0.07875185735512619,\n",
       " 'Catastrophizing': 0.25791505791505787,\n",
       " 'Labeling': 0.28111311517650095,\n",
       " 'Overgeneralization': 0.09330489755503098,\n",
       " 'Personalization': 0.09024211298605853,\n",
       " 'Selective Abstraction': 0.08192022928110856}"
      ]
     },
     "execution_count": 44,
     "metadata": {},
     "output_type": "execute_result"
    }
   ],
   "source": [
    "kappas"
   ]
  },
  {
   "cell_type": "code",
   "execution_count": 45,
   "metadata": {
    "id": "AszWOYvXJ1U6"
   },
   "outputs": [],
   "source": [
    "#SAVE DATASET AS JSON\n",
    "hot_encoded_both.to_json('dataset_json_updated.json', orient=\"records\", lines = True)"
   ]
  },
  {
   "cell_type": "markdown",
   "metadata": {
    "id": "sUolEIx_Hj77"
   },
   "source": [
    "## Intersection"
   ]
  },
  {
   "cell_type": "code",
   "execution_count": 46,
   "metadata": {
    "colab": {
     "base_uri": "https://localhost:8080/"
    },
    "id": "uWuW-de7Hlpr",
    "outputId": "9c3fe9d7-bd6f-4264-c799-ac46a6c4ce68"
   },
   "outputs": [
    {
     "data": {
      "text/plain": [
       "0          Distorted\n",
       "1          Distorted\n",
       "2          Distorted\n",
       "3          Distorted\n",
       "4      Not Distorted\n",
       "           ...      \n",
       "491    Not Distorted\n",
       "492    Not Distorted\n",
       "493    Not Distorted\n",
       "494    Not Distorted\n",
       "495    Not Distorted\n",
       "Name: binary label_2, Length: 496, dtype: object"
      ]
     },
     "execution_count": 46,
     "metadata": {},
     "output_type": "execute_result"
    }
   ],
   "source": [
    "#PREPARING NEW DATASET FOR INTERSECTION AS A COPY FROM ENCODED DATASET\n",
    "intersection = copy.deepcopy(hot_encoded_both)\n",
    "intersection.pop('binary label_1')\n",
    "intersection.pop('binary label_2')"
   ]
  },
  {
   "cell_type": "code",
   "execution_count": 47,
   "metadata": {
    "id": "s-YT9EIXp8fl"
   },
   "outputs": [],
   "source": [
    "#APPLY INTERSECTION LOGIC TO LABELS\n",
    "label_1s = list(intersection['label_1'])\n",
    "label_2s = list(intersection['label_2'])\n",
    "\n",
    "intersection_results = []\n",
    "\n",
    "for idx, element in enumerate(label_1s): \n",
    "  if (element == None or len(element)==0) and label_2s[idx] != None:\n",
    "    intersection_results.append(label_2s[idx])\n",
    "  elif (label_2s[idx] == None or len(label_2s[idx])==0) and element != None:\n",
    "    intersection_results.append(element)\n",
    "  elif element == ['Not Distorted'] or label_2s[idx] == ['Not Distorted']:\n",
    "    intersection_results.append(['Not Distorted'])\n",
    "  elif len(list(set(element) & set(label_2s[idx]))) > 0:\n",
    "    intersection_results.append(list(set(element) & set(label_2s[idx])))\n",
    "  elif element not in [None, \"\", [\"Not Distorted\"]] and label_2s[idx] not in [None, \"\", [\"Not Distorted\"]]:\n",
    "    intersection_results.append(['Not Distorted'])"
   ]
  },
  {
   "cell_type": "code",
   "execution_count": 48,
   "metadata": {
    "id": "FA2Y58YzCNox"
   },
   "outputs": [],
   "source": [
    "#HAVE A LOOK AT THE RESULTS\n",
    "#print(label_1s)\n",
    "#print(label_2s)\n",
    "#print(intersection_results)\n",
    "#print(len(intersection_results))"
   ]
  },
  {
   "cell_type": "code",
   "execution_count": 49,
   "metadata": {
    "id": "qsoo14Z4CpwW"
   },
   "outputs": [],
   "source": [
    "#ADD THE INTERSECTION LABELS TO THE DATASET AND REMOVE UNNECESSARY COLUMNS\n",
    "intersection['intersection_label'] = intersection_results\n",
    "intersection_clean = intersection[['unique_id', 'text', 'label_1', 'note_1', 'label_2', 'note_2', 'intersection_label']]\n",
    "#intersection_clean.head()"
   ]
  },
  {
   "cell_type": "code",
   "execution_count": 50,
   "metadata": {
    "colab": {
     "base_uri": "https://localhost:8080/"
    },
    "id": "-zSpx3rxEaw_",
    "outputId": "b2e02aa2-3562-4c3c-f171-b0b74a37e116"
   },
   "outputs": [
    {
     "data": {
      "text/plain": [
       "['Not Distorted']               421\n",
       "['Catastrophizing']              47\n",
       "['Labeling']                     13\n",
       "['Overgeneralization']            4\n",
       "['Personalization']               4\n",
       "['Arbitrary Inference']           3\n",
       "['Selective Abstraction']         2\n",
       "['Black and White Thinking']      2\n",
       "Name: intersection_label, dtype: int64"
      ]
     },
     "execution_count": 50,
     "metadata": {},
     "output_type": "execute_result"
    }
   ],
   "source": [
    "#HAVE A LOOK AT THE LABEL DISTRIBUTION FOR INTERSECTION DATASET\n",
    "intersection_clean['intersection_label'].apply(lambda x: str(x)).value_counts()"
   ]
  },
  {
   "cell_type": "markdown",
   "metadata": {
    "id": "Ybc8rQiLMRDE"
   },
   "source": [
    "## Union"
   ]
  },
  {
   "cell_type": "code",
   "execution_count": 51,
   "metadata": {
    "id": "zPY1jGCGMS6R"
   },
   "outputs": [],
   "source": [
    "#APPLY UNION LOGIC TO LABELS\n",
    "union_results = []\n",
    "\n",
    "for idx, element in enumerate(label_1s): \n",
    "  if (element == None or len(element)==0) and label_2s[idx] != None:\n",
    "    union_results.append(label_2s[idx])\n",
    "  elif (label_2s[idx] == None or len(label_2s[idx])==0) and element != None:\n",
    "    union_results.append(element)\n",
    "  elif element == ['Not Distorted'] and label_2s[idx] == ['Not Distorted']:\n",
    "    union_results.append(['Not Distorted'])\n",
    "  elif element == ['Not Distorted'] and label_2s[idx] != ['Not Distorted']:\n",
    "    union_results.append(label_2s[idx])\n",
    "  elif element != ['Not Distorted'] and label_2s[idx] == ['Not Distorted']:\n",
    "    union_results.append(element)\n",
    "  elif element not in [None, \"\", [\"Not Distorted\"]] and label_2s[idx] not in [None, \"\", [\"Not Distorted\"]] and len(list(set(element) | set(label_2s[idx]))) > 0:\n",
    "    union_results.append(list(set(element) | set(label_2s[idx])))"
   ]
  },
  {
   "cell_type": "code",
   "execution_count": 52,
   "metadata": {
    "id": "GF9BoxeqOZ1M"
   },
   "outputs": [],
   "source": [
    "#HAVE A LOOK AT THE RESULTS\n",
    "#print(label_1s)\n",
    "#print(label_2s)\n",
    "#print(union_results)\n",
    "#print(len(union_results))"
   ]
  },
  {
   "cell_type": "code",
   "execution_count": 53,
   "metadata": {
    "id": "sddI0m4LPDjF"
   },
   "outputs": [],
   "source": [
    "#MAKE A UNION DATASET AND ADD UNION LABEL RESULTS COLUMN TO IT\n",
    "union = copy.deepcopy(hot_encoded_both)\n",
    "union['union_label'] = union_results\n",
    "union_clean = union[['unique_id', 'text', 'label_1', 'note_1', 'label_2', 'note_2', 'union_label']]\n",
    "#union_clean.head()"
   ]
  },
  {
   "cell_type": "code",
   "execution_count": 54,
   "metadata": {
    "colab": {
     "base_uri": "https://localhost:8080/"
    },
    "id": "uaxsnD3dO7RS",
    "outputId": "d8f221e6-d691-4087-e9d5-16e260465c69"
   },
   "outputs": [
    {
     "data": {
      "text/plain": [
       "['Not Distorted']                                                                     154\n",
       "['Catastrophizing']                                                                   110\n",
       "['Arbitrary Inference']                                                                40\n",
       "['Overgeneralization']                                                                 26\n",
       "['Labeling']                                                                           22\n",
       "['Arbitrary Inference', 'Catastrophizing']                                             19\n",
       "['Personalization']                                                                    16\n",
       "['Selective Abstraction']                                                              15\n",
       "['Arbitrary Inference', 'Personalization']                                             11\n",
       "['Catastrophizing', 'Overgeneralization']                                              11\n",
       "['Catastrophizing', 'Selective Abstraction']                                            9\n",
       "['Black and White Thinking']                                                            9\n",
       "['Catastrophizing', 'Personalization']                                                  7\n",
       "['Labeling', 'Personalization']                                                         6\n",
       "['Arbitrary Inference', 'Labeling']                                                     6\n",
       "['Labeling', 'Overgeneralization']                                                      5\n",
       "['Catastrophizing', 'Labeling']                                                         4\n",
       "['Labeling', 'Selective Abstraction']                                                   3\n",
       "['Arbitrary Inference', 'Black and White Thinking']                                     3\n",
       "['Arbitrary Inference', 'Overgeneralization']                                           2\n",
       "['Arbitrary Inference', 'Catastrophizing', 'Overgeneralization']                        1\n",
       "['Black and White Thinking', 'Selective Abstraction']                                   1\n",
       "['Personalization', 'Selective Abstraction']                                            1\n",
       "['Catastrophizing', 'Overgeneralization', 'Personalization']                            1\n",
       "['Arbitrary Inference', 'Black and White Thinking', 'Overgeneralization']               1\n",
       "['Arbitrary Inference', 'Selective Abstraction']                                        1\n",
       "['Black and White Thinking', 'Overgeneralization']                                      1\n",
       "['Arbitrary Inference', 'Black and White Thinking', 'Labeling']                         1\n",
       "['Black and White Thinking', 'Catastrophizing']                                         1\n",
       "['Arbitrary Inference', 'Black and White Thinking', 'Catastrophizing', 'Labeling']      1\n",
       "['Catastrophizing', 'Labeling', 'Overgeneralization', 'Selective Abstraction']          1\n",
       "['Labeling', 'Overgeneralization', 'Selective Abstraction']                             1\n",
       "['Catastrophizing', 'Labeling', 'Overgeneralization']                                   1\n",
       "['Black and White Thinking', 'Catastrophizing', 'Labeling']                             1\n",
       "['Black and White Thinking', 'Labeling']                                                1\n",
       "['Arbitrary Inference', 'Catastrophizing', 'Labeling', 'Selective Abstraction']         1\n",
       "['Arbitrary Inference', 'Labeling', 'Personalization']                                  1\n",
       "['Black and White Thinking', 'Labeling', 'Overgeneralization']                          1\n",
       "Name: union_label, dtype: int64"
      ]
     },
     "execution_count": 54,
     "metadata": {},
     "output_type": "execute_result"
    }
   ],
   "source": [
    "#DISPLAY DISTRIBUTION OF UNION LABELS\n",
    "union_sorted = union_clean.union_label.sort_values().apply(lambda x: sorted(x))\n",
    "union_sorted = pd.DataFrame(union_sorted).reset_index(drop=True)\n",
    "union_sorted['union_label'].apply(lambda x: str(x)).value_counts()"
   ]
  },
  {
   "cell_type": "code",
   "execution_count": 55,
   "metadata": {
    "colab": {
     "base_uri": "https://localhost:8080/"
    },
    "id": "IvSLbNuxkXuq",
    "outputId": "55de8843-63aa-498e-b66e-e552cf8f8f68"
   },
   "outputs": [
    {
     "name": "stdout",
     "output_type": "stream",
     "text": [
      "{'Black and White Thinking': 21, 'Selective Abstraction': 33, 'Personalization': 43, 'Overgeneralization': 52, 'Labeling': 56, 'Arbitrary Inference': 88, 'Not Distorted': 154, 'Catastrophizing': 168}\n"
     ]
    }
   ],
   "source": [
    "#STATISTICS -> FOR EACH LABEL, DISPLAY IN HOW MANY POSTS THIS LABEL WAS FOUND\n",
    "\n",
    "labels_dict = {'Arbitrary Inference':0, 'Black and White Thinking':0, 'Catastrophizing':0, 'Labeling':0, 'Overgeneralization':0, 'Personalization':0, 'Selective Abstraction':0, 'Not Distorted': 0}\n",
    "\n",
    "for element in union_results:\n",
    "  for sub_element in element:\n",
    "    for label in labels_dict:\n",
    "      if label == sub_element:\n",
    "        labels_dict[label] += 1\n",
    "\n",
    "print({key: value for key, value in sorted(labels_dict.items(), key=lambda item: item[1])})"
   ]
  },
  {
   "cell_type": "markdown",
   "metadata": {
    "id": "LCPyoAkNT7Hm"
   },
   "source": [
    "# Data Preprocessing - Union"
   ]
  },
  {
   "cell_type": "code",
   "execution_count": 56,
   "metadata": {
    "colab": {
     "base_uri": "https://localhost:8080/"
    },
    "id": "s386jyDlu_-W",
    "outputId": "cc8df9c8-b95d-4e2e-d0f0-b7c089565de4"
   },
   "outputs": [
    {
     "name": "stderr",
     "output_type": "stream",
     "text": [
      "/usr/local/lib/python3.7/dist-packages/ipykernel_launcher.py:2: SettingWithCopyWarning: \n",
      "A value is trying to be set on a copy of a slice from a DataFrame.\n",
      "Try using .loc[row_indexer,col_indexer] = value instead\n",
      "\n",
      "See the caveats in the documentation: https://pandas.pydata.org/pandas-docs/stable/user_guide/indexing.html#returning-a-view-versus-a-copy\n",
      "  \n"
     ]
    }
   ],
   "source": [
    "#REMOVAL OF LINE BREAKS\n",
    "union_clean['text'] = union_clean['text'].replace('\\n',' ', regex=True)"
   ]
  },
  {
   "cell_type": "code",
   "execution_count": 57,
   "metadata": {
    "colab": {
     "base_uri": "https://localhost:8080/"
    },
    "id": "XJxgb46nxJoE",
    "outputId": "18d96950-5b0f-4fd2-ae0a-1da05470ea65"
   },
   "outputs": [
    {
     "name": "stderr",
     "output_type": "stream",
     "text": [
      "/usr/local/lib/python3.7/dist-packages/ipykernel_launcher.py:11: SettingWithCopyWarning: \n",
      "A value is trying to be set on a copy of a slice from a DataFrame.\n",
      "Try using .loc[row_indexer,col_indexer] = value instead\n",
      "\n",
      "See the caveats in the documentation: https://pandas.pydata.org/pandas-docs/stable/user_guide/indexing.html#returning-a-view-versus-a-copy\n",
      "  # This is added back by InteractiveShellApp.init_path()\n"
     ]
    }
   ],
   "source": [
    "#PUT UNION BINARY LABEL AS A SEPARATE COLUMN TO THE DATASET\n",
    "union_labels_list = list(union_clean['union_label'])\n",
    "union_labels_list_binary = []\n",
    "\n",
    "for label in union_labels_list:\n",
    "  if label == ['Not Distorted']:\n",
    "    union_labels_list_binary.append(0)\n",
    "  else:\n",
    "    union_labels_list_binary.append(1)\n",
    "\n",
    "union_clean['union_label_binary'] = pd.Series(union_labels_list_binary)"
   ]
  },
  {
   "cell_type": "code",
   "execution_count": 58,
   "metadata": {
    "id": "9JYTyowrx5LF"
   },
   "outputs": [],
   "source": [
    "#union_clean.head()"
   ]
  },
  {
   "cell_type": "code",
   "execution_count": 59,
   "metadata": {
    "colab": {
     "base_uri": "https://localhost:8080/"
    },
    "id": "_jcF3V_71M_3",
    "outputId": "6e3ada62-d9cd-439f-a573-eadb44bd61e9"
   },
   "outputs": [
    {
     "data": {
      "text/plain": [
       "0      I've become extremely paranoid about this ever...\n",
       "1      I'm a male and I am scared to death of getting...\n",
       "2       have weak social skills and while I'm trying ...\n",
       "3      I am very scared about the symptoms. Im just s...\n",
       "4      i just want to be alone and not have to talk t...\n",
       "                             ...                        \n",
       "491                                                     \n",
       "492                                                     \n",
       "493                                                     \n",
       "494                                                     \n",
       "495                                                     \n",
       "Name: note_2, Length: 496, dtype: object"
      ]
     },
     "execution_count": 59,
     "metadata": {},
     "output_type": "execute_result"
    }
   ],
   "source": [
    "#copy the dataset\n",
    "dataset_union = copy.deepcopy(union_clean)\n",
    "\n",
    "#explode the dataset in order to encode it to 0s and 1s\n",
    "dataset_exploded = dataset_union['union_label'].explode()\n",
    "\n",
    "#join the exploded encoded dataset with union dataset\n",
    "dataset_union2 = dataset_union.join(pd.crosstab(dataset_exploded.index, dataset_exploded))\n",
    "\n",
    "#remove unncesessary columns for training\n",
    "dataset_union2.pop('unique_id')\n",
    "dataset_union2.pop('label_1')\n",
    "dataset_union2.pop('note_1')\n",
    "dataset_union2.pop('label_2')\n",
    "dataset_union2.pop('note_2')\n",
    "\n",
    "#take a look at the dataset\n",
    "#dataset_union2.head()"
   ]
  },
  {
   "cell_type": "code",
   "execution_count": 60,
   "metadata": {
    "id": "6ApHNL5q1Wkn"
   },
   "outputs": [],
   "source": [
    "#Save union dataset as JSON\n",
    "dataset_union2.to_json('union_dataset_json_hotencoded.json', orient=\"records\", lines = True)"
   ]
  },
  {
   "cell_type": "markdown",
   "metadata": {
    "id": "WxscfLM4OFvt"
   },
   "source": [
    "## Testing different splits"
   ]
  },
  {
   "cell_type": "code",
   "execution_count": 61,
   "metadata": {
    "id": "fNPHJqBzUTxf"
   },
   "outputs": [],
   "source": [
    "#DIVIDING DATASET INTO DEPENDENT AND INDEPENDENT VARIABLE\n",
    "X = dataset_union2['text']\n",
    "y = dataset_union2[['union_label','union_label_binary', 'Arbitrary Inference', 'Black and White Thinking', 'Catastrophizing', 'Labeling', 'Overgeneralization', 'Personalization', 'Selective Abstraction']]"
   ]
  },
  {
   "cell_type": "code",
   "execution_count": 62,
   "metadata": {
    "id": "-d7QP9wT2cU2"
   },
   "outputs": [],
   "source": [
    "#y.head()"
   ]
  },
  {
   "cell_type": "code",
   "execution_count": 63,
   "metadata": {
    "id": "EEkIkL6ckqbb"
   },
   "outputs": [],
   "source": [
    "#1. DECIDING WHICH SPLIT IS THE BEST FOR TEST SET\n",
    "\n",
    "#make an empty list where to insert count of labels + distribution of labels\n",
    "split_statistics_list_test = []\n",
    "split_statistics_list_train = []\n",
    "\n",
    "#go over different test set sizes and count labels + get distribution of labels\n",
    "for test_size_perc in list((0.10,0.15,0.20,0.25,0.3)):\n",
    "  X_train, X_test, y_train, y_test = train_test_split(X, y,\n",
    "                                                    stratify = dataset_union2['union_label_binary'],\n",
    "                                                    test_size=test_size_perc,\n",
    "                                                    random_state=1)\n",
    "  \n",
    "  #get labels from union dataset based on indexes of the split\n",
    "  test_split_labels = list(union_clean.iloc[y_test.index]['union_label'])\n",
    "  train_split_labels = list(union_clean.iloc[y_train.index]['union_label'])\n",
    "\n",
    "  #make a dictionary with counters to start counting labels\n",
    "  labels_dict_test = {'Arbitrary Inference':0, 'Black and White Thinking':0, 'Catastrophizing':0, 'Labeling':0, 'Overgeneralization':0, 'Personalization':0, 'Selective Abstraction':0, 'Not Distorted':0}\n",
    "  labels_dict_train = {'Arbitrary Inference':0, 'Black and White Thinking':0, 'Catastrophizing':0, 'Labeling':0, 'Overgeneralization':0, 'Personalization':0, 'Selective Abstraction':0, 'Not Distorted':0}\n",
    "\n",
    "  #go over labels from union dataset based on the split, get the count of each label in test set\n",
    "  for element in test_split_labels:\n",
    "    for sub_element in element:\n",
    "      for label in labels_dict_test:\n",
    "        if label == sub_element:\n",
    "          labels_dict_test[label] += 1\n",
    "\n",
    "  #go over train set from union dataset based on the split, get the count of each label in train set\n",
    "  for element in train_split_labels:\n",
    "    for sub_element in element:\n",
    "      for label in labels_dict_train:\n",
    "        if label == sub_element:\n",
    "          labels_dict_train[label] += 1\n",
    "\n",
    "  #get total value of labels in test and train set\n",
    "  total_test = sum(labels_dict_test.values())\n",
    "  total_train = sum(labels_dict_train.values())\n",
    "\n",
    "  #create a list containing label count and distribution\n",
    "  split_statistics_list_test.append({key: [value, str(round(value/total_test*100,2))+'%'] for key, value in sorted(labels_dict_test.items(), key=lambda item: item[1])})\n",
    "  split_statistics_list_train.append({key: [value, str(round(value/total_train*100,2))+'%'] for key, value in sorted(labels_dict_train.items(), key=lambda item: item[1])})\n",
    "\n",
    "#create a dataframe out of it and transform it \n",
    "split_statistics_df_test = pd.DataFrame(split_statistics_list_test).T\n",
    "split_statistics_df_train = pd.DataFrame(split_statistics_list_train).T\n",
    "\n",
    "#rename dataframe columns\n",
    "split_statistics_df_test.columns = ['90/10 split', '85/15 split', '80/20 split','75/25 split', '70/30 split']\n",
    "split_statistics_df_train.columns = ['90/10 split', '85/15 split', '80/20 split','75/25 split', '70/30 split']"
   ]
  },
  {
   "cell_type": "code",
   "execution_count": 64,
   "metadata": {
    "colab": {
     "base_uri": "https://localhost:8080/",
     "height": 300
    },
    "id": "0vlmw3OVretK",
    "outputId": "18205e73-b11a-41d4-e6c7-532b807c0af4"
   },
   "outputs": [
    {
     "data": {
      "text/html": [
       "\n",
       "  <div id=\"df-f10f6bff-6d16-414c-a0fd-0d1c0729d67f\">\n",
       "    <div class=\"colab-df-container\">\n",
       "      <div>\n",
       "<style scoped>\n",
       "    .dataframe tbody tr th:only-of-type {\n",
       "        vertical-align: middle;\n",
       "    }\n",
       "\n",
       "    .dataframe tbody tr th {\n",
       "        vertical-align: top;\n",
       "    }\n",
       "\n",
       "    .dataframe thead th {\n",
       "        text-align: right;\n",
       "    }\n",
       "</style>\n",
       "<table border=\"1\" class=\"dataframe\">\n",
       "  <thead>\n",
       "    <tr style=\"text-align: right;\">\n",
       "      <th></th>\n",
       "      <th>90/10 split</th>\n",
       "      <th>85/15 split</th>\n",
       "      <th>80/20 split</th>\n",
       "      <th>75/25 split</th>\n",
       "      <th>70/30 split</th>\n",
       "    </tr>\n",
       "  </thead>\n",
       "  <tbody>\n",
       "    <tr>\n",
       "      <th>Black and White Thinking</th>\n",
       "      <td>[2, 3.08%]</td>\n",
       "      <td>[4, 4.21%]</td>\n",
       "      <td>[5, 4.0%]</td>\n",
       "      <td>[6, 3.73%]</td>\n",
       "      <td>[5, 2.69%]</td>\n",
       "    </tr>\n",
       "    <tr>\n",
       "      <th>Labeling</th>\n",
       "      <td>[5, 7.69%]</td>\n",
       "      <td>[10, 10.53%]</td>\n",
       "      <td>[14, 11.2%]</td>\n",
       "      <td>[18, 11.18%]</td>\n",
       "      <td>[19, 10.22%]</td>\n",
       "    </tr>\n",
       "    <tr>\n",
       "      <th>Overgeneralization</th>\n",
       "      <td>[5, 7.69%]</td>\n",
       "      <td>[6, 6.32%]</td>\n",
       "      <td>[8, 6.4%]</td>\n",
       "      <td>[14, 8.7%]</td>\n",
       "      <td>[16, 8.6%]</td>\n",
       "    </tr>\n",
       "    <tr>\n",
       "      <th>Personalization</th>\n",
       "      <td>[5, 7.69%]</td>\n",
       "      <td>[6, 6.32%]</td>\n",
       "      <td>[8, 6.4%]</td>\n",
       "      <td>[8, 4.97%]</td>\n",
       "      <td>[13, 6.99%]</td>\n",
       "    </tr>\n",
       "    <tr>\n",
       "      <th>Selective Abstraction</th>\n",
       "      <td>[6, 9.23%]</td>\n",
       "      <td>[8, 8.42%]</td>\n",
       "      <td>[9, 7.2%]</td>\n",
       "      <td>[12, 7.45%]</td>\n",
       "      <td>[12, 6.45%]</td>\n",
       "    </tr>\n",
       "    <tr>\n",
       "      <th>Arbitrary Inference</th>\n",
       "      <td>[8, 12.31%]</td>\n",
       "      <td>[15, 15.79%]</td>\n",
       "      <td>[20, 16.0%]</td>\n",
       "      <td>[27, 16.77%]</td>\n",
       "      <td>[33, 17.74%]</td>\n",
       "    </tr>\n",
       "    <tr>\n",
       "      <th>Not Distorted</th>\n",
       "      <td>[16, 24.62%]</td>\n",
       "      <td>[23, 24.21%]</td>\n",
       "      <td>[31, 24.8%]</td>\n",
       "      <td>[38, 23.6%]</td>\n",
       "      <td>[46, 24.73%]</td>\n",
       "    </tr>\n",
       "    <tr>\n",
       "      <th>Catastrophizing</th>\n",
       "      <td>[18, 27.69%]</td>\n",
       "      <td>[23, 24.21%]</td>\n",
       "      <td>[30, 24.0%]</td>\n",
       "      <td>[38, 23.6%]</td>\n",
       "      <td>[42, 22.58%]</td>\n",
       "    </tr>\n",
       "  </tbody>\n",
       "</table>\n",
       "</div>\n",
       "      <button class=\"colab-df-convert\" onclick=\"convertToInteractive('df-f10f6bff-6d16-414c-a0fd-0d1c0729d67f')\"\n",
       "              title=\"Convert this dataframe to an interactive table.\"\n",
       "              style=\"display:none;\">\n",
       "        \n",
       "  <svg xmlns=\"http://www.w3.org/2000/svg\" height=\"24px\"viewBox=\"0 0 24 24\"\n",
       "       width=\"24px\">\n",
       "    <path d=\"M0 0h24v24H0V0z\" fill=\"none\"/>\n",
       "    <path d=\"M18.56 5.44l.94 2.06.94-2.06 2.06-.94-2.06-.94-.94-2.06-.94 2.06-2.06.94zm-11 1L8.5 8.5l.94-2.06 2.06-.94-2.06-.94L8.5 2.5l-.94 2.06-2.06.94zm10 10l.94 2.06.94-2.06 2.06-.94-2.06-.94-.94-2.06-.94 2.06-2.06.94z\"/><path d=\"M17.41 7.96l-1.37-1.37c-.4-.4-.92-.59-1.43-.59-.52 0-1.04.2-1.43.59L10.3 9.45l-7.72 7.72c-.78.78-.78 2.05 0 2.83L4 21.41c.39.39.9.59 1.41.59.51 0 1.02-.2 1.41-.59l7.78-7.78 2.81-2.81c.8-.78.8-2.07 0-2.86zM5.41 20L4 18.59l7.72-7.72 1.47 1.35L5.41 20z\"/>\n",
       "  </svg>\n",
       "      </button>\n",
       "      \n",
       "  <style>\n",
       "    .colab-df-container {\n",
       "      display:flex;\n",
       "      flex-wrap:wrap;\n",
       "      gap: 12px;\n",
       "    }\n",
       "\n",
       "    .colab-df-convert {\n",
       "      background-color: #E8F0FE;\n",
       "      border: none;\n",
       "      border-radius: 50%;\n",
       "      cursor: pointer;\n",
       "      display: none;\n",
       "      fill: #1967D2;\n",
       "      height: 32px;\n",
       "      padding: 0 0 0 0;\n",
       "      width: 32px;\n",
       "    }\n",
       "\n",
       "    .colab-df-convert:hover {\n",
       "      background-color: #E2EBFA;\n",
       "      box-shadow: 0px 1px 2px rgba(60, 64, 67, 0.3), 0px 1px 3px 1px rgba(60, 64, 67, 0.15);\n",
       "      fill: #174EA6;\n",
       "    }\n",
       "\n",
       "    [theme=dark] .colab-df-convert {\n",
       "      background-color: #3B4455;\n",
       "      fill: #D2E3FC;\n",
       "    }\n",
       "\n",
       "    [theme=dark] .colab-df-convert:hover {\n",
       "      background-color: #434B5C;\n",
       "      box-shadow: 0px 1px 3px 1px rgba(0, 0, 0, 0.15);\n",
       "      filter: drop-shadow(0px 1px 2px rgba(0, 0, 0, 0.3));\n",
       "      fill: #FFFFFF;\n",
       "    }\n",
       "  </style>\n",
       "\n",
       "      <script>\n",
       "        const buttonEl =\n",
       "          document.querySelector('#df-f10f6bff-6d16-414c-a0fd-0d1c0729d67f button.colab-df-convert');\n",
       "        buttonEl.style.display =\n",
       "          google.colab.kernel.accessAllowed ? 'block' : 'none';\n",
       "\n",
       "        async function convertToInteractive(key) {\n",
       "          const element = document.querySelector('#df-f10f6bff-6d16-414c-a0fd-0d1c0729d67f');\n",
       "          const dataTable =\n",
       "            await google.colab.kernel.invokeFunction('convertToInteractive',\n",
       "                                                     [key], {});\n",
       "          if (!dataTable) return;\n",
       "\n",
       "          const docLinkHtml = 'Like what you see? Visit the ' +\n",
       "            '<a target=\"_blank\" href=https://colab.research.google.com/notebooks/data_table.ipynb>data table notebook</a>'\n",
       "            + ' to learn more about interactive tables.';\n",
       "          element.innerHTML = '';\n",
       "          dataTable['output_type'] = 'display_data';\n",
       "          await google.colab.output.renderOutput(dataTable, element);\n",
       "          const docLink = document.createElement('div');\n",
       "          docLink.innerHTML = docLinkHtml;\n",
       "          element.appendChild(docLink);\n",
       "        }\n",
       "      </script>\n",
       "    </div>\n",
       "  </div>\n",
       "  "
      ],
      "text/plain": [
       "                           90/10 split   85/15 split  80/20 split  \\\n",
       "Black and White Thinking    [2, 3.08%]    [4, 4.21%]    [5, 4.0%]   \n",
       "Labeling                    [5, 7.69%]  [10, 10.53%]  [14, 11.2%]   \n",
       "Overgeneralization          [5, 7.69%]    [6, 6.32%]    [8, 6.4%]   \n",
       "Personalization             [5, 7.69%]    [6, 6.32%]    [8, 6.4%]   \n",
       "Selective Abstraction       [6, 9.23%]    [8, 8.42%]    [9, 7.2%]   \n",
       "Arbitrary Inference        [8, 12.31%]  [15, 15.79%]  [20, 16.0%]   \n",
       "Not Distorted             [16, 24.62%]  [23, 24.21%]  [31, 24.8%]   \n",
       "Catastrophizing           [18, 27.69%]  [23, 24.21%]  [30, 24.0%]   \n",
       "\n",
       "                           75/25 split   70/30 split  \n",
       "Black and White Thinking    [6, 3.73%]    [5, 2.69%]  \n",
       "Labeling                  [18, 11.18%]  [19, 10.22%]  \n",
       "Overgeneralization          [14, 8.7%]    [16, 8.6%]  \n",
       "Personalization             [8, 4.97%]   [13, 6.99%]  \n",
       "Selective Abstraction      [12, 7.45%]   [12, 6.45%]  \n",
       "Arbitrary Inference       [27, 16.77%]  [33, 17.74%]  \n",
       "Not Distorted              [38, 23.6%]  [46, 24.73%]  \n",
       "Catastrophizing            [38, 23.6%]  [42, 22.58%]  "
      ]
     },
     "execution_count": 64,
     "metadata": {},
     "output_type": "execute_result"
    }
   ],
   "source": [
    "#STATISTICS FOR TEST SET\n",
    "split_statistics_df_test"
   ]
  },
  {
   "cell_type": "code",
   "execution_count": 65,
   "metadata": {
    "colab": {
     "base_uri": "https://localhost:8080/",
     "height": 300
    },
    "id": "VVscpoPGraP8",
    "outputId": "0e4ea3fb-b34b-426e-9425-62e38cf6825b"
   },
   "outputs": [
    {
     "data": {
      "text/html": [
       "\n",
       "  <div id=\"df-71fa6cb7-1912-43cc-92b7-7f6509d24cb4\">\n",
       "    <div class=\"colab-df-container\">\n",
       "      <div>\n",
       "<style scoped>\n",
       "    .dataframe tbody tr th:only-of-type {\n",
       "        vertical-align: middle;\n",
       "    }\n",
       "\n",
       "    .dataframe tbody tr th {\n",
       "        vertical-align: top;\n",
       "    }\n",
       "\n",
       "    .dataframe thead th {\n",
       "        text-align: right;\n",
       "    }\n",
       "</style>\n",
       "<table border=\"1\" class=\"dataframe\">\n",
       "  <thead>\n",
       "    <tr style=\"text-align: right;\">\n",
       "      <th></th>\n",
       "      <th>90/10 split</th>\n",
       "      <th>85/15 split</th>\n",
       "      <th>80/20 split</th>\n",
       "      <th>75/25 split</th>\n",
       "      <th>70/30 split</th>\n",
       "    </tr>\n",
       "  </thead>\n",
       "  <tbody>\n",
       "    <tr>\n",
       "      <th>Black and White Thinking</th>\n",
       "      <td>[19, 3.45%]</td>\n",
       "      <td>[17, 3.27%]</td>\n",
       "      <td>[16, 3.27%]</td>\n",
       "      <td>[15, 3.3%]</td>\n",
       "      <td>[16, 3.73%]</td>\n",
       "    </tr>\n",
       "    <tr>\n",
       "      <th>Selective Abstraction</th>\n",
       "      <td>[27, 4.91%]</td>\n",
       "      <td>[25, 4.81%]</td>\n",
       "      <td>[24, 4.9%]</td>\n",
       "      <td>[21, 4.63%]</td>\n",
       "      <td>[21, 4.9%]</td>\n",
       "    </tr>\n",
       "    <tr>\n",
       "      <th>Personalization</th>\n",
       "      <td>[38, 6.91%]</td>\n",
       "      <td>[37, 7.12%]</td>\n",
       "      <td>[35, 7.14%]</td>\n",
       "      <td>[35, 7.71%]</td>\n",
       "      <td>[30, 6.99%]</td>\n",
       "    </tr>\n",
       "    <tr>\n",
       "      <th>Overgeneralization</th>\n",
       "      <td>[47, 8.55%]</td>\n",
       "      <td>[46, 8.85%]</td>\n",
       "      <td>[44, 8.98%]</td>\n",
       "      <td>[38, 8.37%]</td>\n",
       "      <td>[36, 8.39%]</td>\n",
       "    </tr>\n",
       "    <tr>\n",
       "      <th>Labeling</th>\n",
       "      <td>[51, 9.27%]</td>\n",
       "      <td>[46, 8.85%]</td>\n",
       "      <td>[42, 8.57%]</td>\n",
       "      <td>[38, 8.37%]</td>\n",
       "      <td>[37, 8.62%]</td>\n",
       "    </tr>\n",
       "    <tr>\n",
       "      <th>Arbitrary Inference</th>\n",
       "      <td>[80, 14.55%]</td>\n",
       "      <td>[73, 14.04%]</td>\n",
       "      <td>[68, 13.88%]</td>\n",
       "      <td>[61, 13.44%]</td>\n",
       "      <td>[55, 12.82%]</td>\n",
       "    </tr>\n",
       "    <tr>\n",
       "      <th>Not Distorted</th>\n",
       "      <td>[138, 25.09%]</td>\n",
       "      <td>[131, 25.19%]</td>\n",
       "      <td>[123, 25.1%]</td>\n",
       "      <td>[116, 25.55%]</td>\n",
       "      <td>[108, 25.17%]</td>\n",
       "    </tr>\n",
       "    <tr>\n",
       "      <th>Catastrophizing</th>\n",
       "      <td>[150, 27.27%]</td>\n",
       "      <td>[145, 27.88%]</td>\n",
       "      <td>[138, 28.16%]</td>\n",
       "      <td>[130, 28.63%]</td>\n",
       "      <td>[126, 29.37%]</td>\n",
       "    </tr>\n",
       "  </tbody>\n",
       "</table>\n",
       "</div>\n",
       "      <button class=\"colab-df-convert\" onclick=\"convertToInteractive('df-71fa6cb7-1912-43cc-92b7-7f6509d24cb4')\"\n",
       "              title=\"Convert this dataframe to an interactive table.\"\n",
       "              style=\"display:none;\">\n",
       "        \n",
       "  <svg xmlns=\"http://www.w3.org/2000/svg\" height=\"24px\"viewBox=\"0 0 24 24\"\n",
       "       width=\"24px\">\n",
       "    <path d=\"M0 0h24v24H0V0z\" fill=\"none\"/>\n",
       "    <path d=\"M18.56 5.44l.94 2.06.94-2.06 2.06-.94-2.06-.94-.94-2.06-.94 2.06-2.06.94zm-11 1L8.5 8.5l.94-2.06 2.06-.94-2.06-.94L8.5 2.5l-.94 2.06-2.06.94zm10 10l.94 2.06.94-2.06 2.06-.94-2.06-.94-.94-2.06-.94 2.06-2.06.94z\"/><path d=\"M17.41 7.96l-1.37-1.37c-.4-.4-.92-.59-1.43-.59-.52 0-1.04.2-1.43.59L10.3 9.45l-7.72 7.72c-.78.78-.78 2.05 0 2.83L4 21.41c.39.39.9.59 1.41.59.51 0 1.02-.2 1.41-.59l7.78-7.78 2.81-2.81c.8-.78.8-2.07 0-2.86zM5.41 20L4 18.59l7.72-7.72 1.47 1.35L5.41 20z\"/>\n",
       "  </svg>\n",
       "      </button>\n",
       "      \n",
       "  <style>\n",
       "    .colab-df-container {\n",
       "      display:flex;\n",
       "      flex-wrap:wrap;\n",
       "      gap: 12px;\n",
       "    }\n",
       "\n",
       "    .colab-df-convert {\n",
       "      background-color: #E8F0FE;\n",
       "      border: none;\n",
       "      border-radius: 50%;\n",
       "      cursor: pointer;\n",
       "      display: none;\n",
       "      fill: #1967D2;\n",
       "      height: 32px;\n",
       "      padding: 0 0 0 0;\n",
       "      width: 32px;\n",
       "    }\n",
       "\n",
       "    .colab-df-convert:hover {\n",
       "      background-color: #E2EBFA;\n",
       "      box-shadow: 0px 1px 2px rgba(60, 64, 67, 0.3), 0px 1px 3px 1px rgba(60, 64, 67, 0.15);\n",
       "      fill: #174EA6;\n",
       "    }\n",
       "\n",
       "    [theme=dark] .colab-df-convert {\n",
       "      background-color: #3B4455;\n",
       "      fill: #D2E3FC;\n",
       "    }\n",
       "\n",
       "    [theme=dark] .colab-df-convert:hover {\n",
       "      background-color: #434B5C;\n",
       "      box-shadow: 0px 1px 3px 1px rgba(0, 0, 0, 0.15);\n",
       "      filter: drop-shadow(0px 1px 2px rgba(0, 0, 0, 0.3));\n",
       "      fill: #FFFFFF;\n",
       "    }\n",
       "  </style>\n",
       "\n",
       "      <script>\n",
       "        const buttonEl =\n",
       "          document.querySelector('#df-71fa6cb7-1912-43cc-92b7-7f6509d24cb4 button.colab-df-convert');\n",
       "        buttonEl.style.display =\n",
       "          google.colab.kernel.accessAllowed ? 'block' : 'none';\n",
       "\n",
       "        async function convertToInteractive(key) {\n",
       "          const element = document.querySelector('#df-71fa6cb7-1912-43cc-92b7-7f6509d24cb4');\n",
       "          const dataTable =\n",
       "            await google.colab.kernel.invokeFunction('convertToInteractive',\n",
       "                                                     [key], {});\n",
       "          if (!dataTable) return;\n",
       "\n",
       "          const docLinkHtml = 'Like what you see? Visit the ' +\n",
       "            '<a target=\"_blank\" href=https://colab.research.google.com/notebooks/data_table.ipynb>data table notebook</a>'\n",
       "            + ' to learn more about interactive tables.';\n",
       "          element.innerHTML = '';\n",
       "          dataTable['output_type'] = 'display_data';\n",
       "          await google.colab.output.renderOutput(dataTable, element);\n",
       "          const docLink = document.createElement('div');\n",
       "          docLink.innerHTML = docLinkHtml;\n",
       "          element.appendChild(docLink);\n",
       "        }\n",
       "      </script>\n",
       "    </div>\n",
       "  </div>\n",
       "  "
      ],
      "text/plain": [
       "                            90/10 split    85/15 split    80/20 split  \\\n",
       "Black and White Thinking    [19, 3.45%]    [17, 3.27%]    [16, 3.27%]   \n",
       "Selective Abstraction       [27, 4.91%]    [25, 4.81%]     [24, 4.9%]   \n",
       "Personalization             [38, 6.91%]    [37, 7.12%]    [35, 7.14%]   \n",
       "Overgeneralization          [47, 8.55%]    [46, 8.85%]    [44, 8.98%]   \n",
       "Labeling                    [51, 9.27%]    [46, 8.85%]    [42, 8.57%]   \n",
       "Arbitrary Inference        [80, 14.55%]   [73, 14.04%]   [68, 13.88%]   \n",
       "Not Distorted             [138, 25.09%]  [131, 25.19%]   [123, 25.1%]   \n",
       "Catastrophizing           [150, 27.27%]  [145, 27.88%]  [138, 28.16%]   \n",
       "\n",
       "                            75/25 split    70/30 split  \n",
       "Black and White Thinking     [15, 3.3%]    [16, 3.73%]  \n",
       "Selective Abstraction       [21, 4.63%]     [21, 4.9%]  \n",
       "Personalization             [35, 7.71%]    [30, 6.99%]  \n",
       "Overgeneralization          [38, 8.37%]    [36, 8.39%]  \n",
       "Labeling                    [38, 8.37%]    [37, 8.62%]  \n",
       "Arbitrary Inference        [61, 13.44%]   [55, 12.82%]  \n",
       "Not Distorted             [116, 25.55%]  [108, 25.17%]  \n",
       "Catastrophizing           [130, 28.63%]  [126, 29.37%]  "
      ]
     },
     "execution_count": 65,
     "metadata": {},
     "output_type": "execute_result"
    }
   ],
   "source": [
    "#STATISTICS FOR TRAIN SET\n",
    "split_statistics_df_train"
   ]
  },
  {
   "cell_type": "markdown",
   "metadata": {
    "id": "F2SDrhO8OAEP"
   },
   "source": [
    "## TRAIN - VALIDATION - TEST"
   ]
  },
  {
   "cell_type": "code",
   "execution_count": 66,
   "metadata": {
    "id": "ny1mcDVVN_C-"
   },
   "outputs": [],
   "source": [
    "#Create best train-val-test split\n",
    "#make an empty list where to insert count of labels + distribution of labels\n",
    "split_statistics_list_testval = []\n",
    "split_statistics_list_train = []\n",
    "\n",
    "#Split data into training and test set with chosen split 80/20\n",
    "X_train, X_test_val, y_train, y_test_val = train_test_split(X, y,\n",
    "                                                    stratify=dataset_union2['union_label_binary'], \n",
    "                                                    test_size=0.20,\n",
    "                                                    random_state = 1)\n",
    "  \n",
    "#get labels from union dataset based on indexes of the split\n",
    "testval_split_labels = list(union_clean.iloc[y_test_val.index]['union_label'])\n",
    "train_split_labels = list(union_clean.iloc[y_train.index]['union_label'])\n",
    "\n",
    "#make a dictionary with counters to start counting labels\n",
    "labels_dict_testval = {'Arbitrary Inference':0, 'Black and White Thinking':0, 'Catastrophizing':0, 'Labeling':0, 'Overgeneralization':0, 'Personalization':0, 'Selective Abstraction':0, 'Not Distorted':0}\n",
    "labels_dict_train = {'Arbitrary Inference':0, 'Black and White Thinking':0, 'Catastrophizing':0, 'Labeling':0, 'Overgeneralization':0, 'Personalization':0, 'Selective Abstraction':0, 'Not Distorted':0}\n",
    "\n",
    "#go over labels from union dataset based on the split, get the count of each label in test set\n",
    "for element in testval_split_labels:\n",
    "  for sub_element in element:\n",
    "    for label in labels_dict_testval:\n",
    "      if label == sub_element:\n",
    "        labels_dict_testval[label] += 1\n",
    "\n",
    "#go over train set from union dataset based on the split, get the count of each label in train set\n",
    "for element in train_split_labels:\n",
    "  for sub_element in element:\n",
    "    for label in labels_dict_train:\n",
    "      if label == sub_element:\n",
    "        labels_dict_train[label] += 1\n",
    "\n",
    "#get total value of labels in test and train set\n",
    "total_test = sum(labels_dict_testval.values())\n",
    "total_train = sum(labels_dict_train.values())\n",
    "\n",
    "#create a list containing label count and distribution\n",
    "split_statistics_list_testval.append({key: [value, str(round(value/total_test*100,2))+'%'] for key, value in sorted(labels_dict_testval.items(), key=lambda item: item[1])})\n",
    "split_statistics_list_train.append({key: [value, str(round(value/total_train*100,2))+'%'] for key, value in sorted(labels_dict_train.items(), key=lambda item: item[1])})\n",
    "\n",
    "#create a dataframe out of it and transform it \n",
    "split_statistics_df_testval = pd.DataFrame(split_statistics_list_testval).T\n",
    "split_statistics_df_train = pd.DataFrame(split_statistics_list_train).T\n",
    "\n",
    "split_statistics_df_testval.columns = ['testval 20%']\n",
    "split_statistics_df_train.columns = ['train 80%']"
   ]
  },
  {
   "cell_type": "code",
   "execution_count": 67,
   "metadata": {
    "colab": {
     "base_uri": "https://localhost:8080/",
     "height": 300
    },
    "id": "rRJhsdaLS8-Z",
    "outputId": "afa587bb-3aa6-4bad-cc95-31c2d94e3c6e"
   },
   "outputs": [
    {
     "data": {
      "text/html": [
       "\n",
       "  <div id=\"df-37c590e0-442b-4a84-9764-6b372ec8dfbf\">\n",
       "    <div class=\"colab-df-container\">\n",
       "      <div>\n",
       "<style scoped>\n",
       "    .dataframe tbody tr th:only-of-type {\n",
       "        vertical-align: middle;\n",
       "    }\n",
       "\n",
       "    .dataframe tbody tr th {\n",
       "        vertical-align: top;\n",
       "    }\n",
       "\n",
       "    .dataframe thead th {\n",
       "        text-align: right;\n",
       "    }\n",
       "</style>\n",
       "<table border=\"1\" class=\"dataframe\">\n",
       "  <thead>\n",
       "    <tr style=\"text-align: right;\">\n",
       "      <th></th>\n",
       "      <th>train 80%</th>\n",
       "      <th>testval 20%</th>\n",
       "    </tr>\n",
       "  </thead>\n",
       "  <tbody>\n",
       "    <tr>\n",
       "      <th>Black and White Thinking</th>\n",
       "      <td>[16, 3.27%]</td>\n",
       "      <td>[5, 4.0%]</td>\n",
       "    </tr>\n",
       "    <tr>\n",
       "      <th>Selective Abstraction</th>\n",
       "      <td>[24, 4.9%]</td>\n",
       "      <td>[9, 7.2%]</td>\n",
       "    </tr>\n",
       "    <tr>\n",
       "      <th>Personalization</th>\n",
       "      <td>[35, 7.14%]</td>\n",
       "      <td>[8, 6.4%]</td>\n",
       "    </tr>\n",
       "    <tr>\n",
       "      <th>Labeling</th>\n",
       "      <td>[42, 8.57%]</td>\n",
       "      <td>[14, 11.2%]</td>\n",
       "    </tr>\n",
       "    <tr>\n",
       "      <th>Overgeneralization</th>\n",
       "      <td>[44, 8.98%]</td>\n",
       "      <td>[8, 6.4%]</td>\n",
       "    </tr>\n",
       "    <tr>\n",
       "      <th>Arbitrary Inference</th>\n",
       "      <td>[68, 13.88%]</td>\n",
       "      <td>[20, 16.0%]</td>\n",
       "    </tr>\n",
       "    <tr>\n",
       "      <th>Not Distorted</th>\n",
       "      <td>[123, 25.1%]</td>\n",
       "      <td>[31, 24.8%]</td>\n",
       "    </tr>\n",
       "    <tr>\n",
       "      <th>Catastrophizing</th>\n",
       "      <td>[138, 28.16%]</td>\n",
       "      <td>[30, 24.0%]</td>\n",
       "    </tr>\n",
       "  </tbody>\n",
       "</table>\n",
       "</div>\n",
       "      <button class=\"colab-df-convert\" onclick=\"convertToInteractive('df-37c590e0-442b-4a84-9764-6b372ec8dfbf')\"\n",
       "              title=\"Convert this dataframe to an interactive table.\"\n",
       "              style=\"display:none;\">\n",
       "        \n",
       "  <svg xmlns=\"http://www.w3.org/2000/svg\" height=\"24px\"viewBox=\"0 0 24 24\"\n",
       "       width=\"24px\">\n",
       "    <path d=\"M0 0h24v24H0V0z\" fill=\"none\"/>\n",
       "    <path d=\"M18.56 5.44l.94 2.06.94-2.06 2.06-.94-2.06-.94-.94-2.06-.94 2.06-2.06.94zm-11 1L8.5 8.5l.94-2.06 2.06-.94-2.06-.94L8.5 2.5l-.94 2.06-2.06.94zm10 10l.94 2.06.94-2.06 2.06-.94-2.06-.94-.94-2.06-.94 2.06-2.06.94z\"/><path d=\"M17.41 7.96l-1.37-1.37c-.4-.4-.92-.59-1.43-.59-.52 0-1.04.2-1.43.59L10.3 9.45l-7.72 7.72c-.78.78-.78 2.05 0 2.83L4 21.41c.39.39.9.59 1.41.59.51 0 1.02-.2 1.41-.59l7.78-7.78 2.81-2.81c.8-.78.8-2.07 0-2.86zM5.41 20L4 18.59l7.72-7.72 1.47 1.35L5.41 20z\"/>\n",
       "  </svg>\n",
       "      </button>\n",
       "      \n",
       "  <style>\n",
       "    .colab-df-container {\n",
       "      display:flex;\n",
       "      flex-wrap:wrap;\n",
       "      gap: 12px;\n",
       "    }\n",
       "\n",
       "    .colab-df-convert {\n",
       "      background-color: #E8F0FE;\n",
       "      border: none;\n",
       "      border-radius: 50%;\n",
       "      cursor: pointer;\n",
       "      display: none;\n",
       "      fill: #1967D2;\n",
       "      height: 32px;\n",
       "      padding: 0 0 0 0;\n",
       "      width: 32px;\n",
       "    }\n",
       "\n",
       "    .colab-df-convert:hover {\n",
       "      background-color: #E2EBFA;\n",
       "      box-shadow: 0px 1px 2px rgba(60, 64, 67, 0.3), 0px 1px 3px 1px rgba(60, 64, 67, 0.15);\n",
       "      fill: #174EA6;\n",
       "    }\n",
       "\n",
       "    [theme=dark] .colab-df-convert {\n",
       "      background-color: #3B4455;\n",
       "      fill: #D2E3FC;\n",
       "    }\n",
       "\n",
       "    [theme=dark] .colab-df-convert:hover {\n",
       "      background-color: #434B5C;\n",
       "      box-shadow: 0px 1px 3px 1px rgba(0, 0, 0, 0.15);\n",
       "      filter: drop-shadow(0px 1px 2px rgba(0, 0, 0, 0.3));\n",
       "      fill: #FFFFFF;\n",
       "    }\n",
       "  </style>\n",
       "\n",
       "      <script>\n",
       "        const buttonEl =\n",
       "          document.querySelector('#df-37c590e0-442b-4a84-9764-6b372ec8dfbf button.colab-df-convert');\n",
       "        buttonEl.style.display =\n",
       "          google.colab.kernel.accessAllowed ? 'block' : 'none';\n",
       "\n",
       "        async function convertToInteractive(key) {\n",
       "          const element = document.querySelector('#df-37c590e0-442b-4a84-9764-6b372ec8dfbf');\n",
       "          const dataTable =\n",
       "            await google.colab.kernel.invokeFunction('convertToInteractive',\n",
       "                                                     [key], {});\n",
       "          if (!dataTable) return;\n",
       "\n",
       "          const docLinkHtml = 'Like what you see? Visit the ' +\n",
       "            '<a target=\"_blank\" href=https://colab.research.google.com/notebooks/data_table.ipynb>data table notebook</a>'\n",
       "            + ' to learn more about interactive tables.';\n",
       "          element.innerHTML = '';\n",
       "          dataTable['output_type'] = 'display_data';\n",
       "          await google.colab.output.renderOutput(dataTable, element);\n",
       "          const docLink = document.createElement('div');\n",
       "          docLink.innerHTML = docLinkHtml;\n",
       "          element.appendChild(docLink);\n",
       "        }\n",
       "      </script>\n",
       "    </div>\n",
       "  </div>\n",
       "  "
      ],
      "text/plain": [
       "                              train 80%  testval 20%\n",
       "Black and White Thinking    [16, 3.27%]    [5, 4.0%]\n",
       "Selective Abstraction        [24, 4.9%]    [9, 7.2%]\n",
       "Personalization             [35, 7.14%]    [8, 6.4%]\n",
       "Labeling                    [42, 8.57%]  [14, 11.2%]\n",
       "Overgeneralization          [44, 8.98%]    [8, 6.4%]\n",
       "Arbitrary Inference        [68, 13.88%]  [20, 16.0%]\n",
       "Not Distorted              [123, 25.1%]  [31, 24.8%]\n",
       "Catastrophizing           [138, 28.16%]  [30, 24.0%]"
      ]
     },
     "execution_count": 67,
     "metadata": {},
     "output_type": "execute_result"
    }
   ],
   "source": [
    "split_statistics_df_train.join(split_statistics_df_testval)"
   ]
  },
  {
   "cell_type": "code",
   "execution_count": 68,
   "metadata": {
    "id": "EYVtsWStMrPT"
   },
   "outputs": [],
   "source": [
    "#SPLIT 20% INTO 50-50 TEST AND VAL\n",
    "\n",
    "#make an empty list where to insert count of labels + distribution of labels\n",
    "split_statistics_list_test = []\n",
    "split_statistics_list_val = []\n",
    "\n",
    "X_val, X_test, y_val, y_test = train_test_split(X_test_val, y_test_val,\n",
    "                                                    stratify=y_test_val['union_label_binary'], \n",
    "                                                    test_size=0.50,\n",
    "                                                    random_state = 1)\n",
    "\n",
    "#get labels from union dataset based on indexes of the split\n",
    "test_split_labels = list(union_clean.iloc[y_test.index]['union_label'])\n",
    "val_split_labels = list(union_clean.iloc[y_val.index]['union_label'])\n",
    "\n",
    "#make a dictionary with counters to start counting labels\n",
    "labels_dict_test = {'Arbitrary Inference':0, 'Black and White Thinking':0, 'Catastrophizing':0, 'Labeling':0, 'Overgeneralization':0, 'Personalization':0, 'Selective Abstraction':0, 'Not Distorted':0}\n",
    "labels_dict_val = {'Arbitrary Inference':0, 'Black and White Thinking':0, 'Catastrophizing':0, 'Labeling':0, 'Overgeneralization':0, 'Personalization':0, 'Selective Abstraction':0, 'Not Distorted':0}\n",
    "\n",
    "#go over labels from union dataset based on the split, get the count of each label in test set\n",
    "for element in test_split_labels:\n",
    "  for sub_element in element:\n",
    "    for label in labels_dict_test:\n",
    "      if label == sub_element:\n",
    "        labels_dict_test[label] += 1\n",
    "\n",
    "#go over train set from union dataset based on the split, get the count of each label in train set\n",
    "for element in val_split_labels:\n",
    "  for sub_element in element:\n",
    "    for label in labels_dict_val:\n",
    "      if label == sub_element:\n",
    "        labels_dict_val[label] += 1\n",
    "\n",
    "#get total value of labels in test and train set\n",
    "total_test = sum(labels_dict_test.values())\n",
    "total_val = sum(labels_dict_val.values())\n",
    "\n",
    "#create a list containing label count and distribution\n",
    "split_statistics_list_test.append({key: [value, str(round(value/total_test*100,2))+'%'] for key, value in sorted(labels_dict_test.items(), key=lambda item: item[1])})\n",
    "split_statistics_list_val.append({key: [value, str(round(value/total_val*100,2))+'%'] for key, value in sorted(labels_dict_val.items(), key=lambda item: item[1])})\n",
    "\n",
    "#create a dataframe out of it and transform it \n",
    "split_statistics_df_test = pd.DataFrame(split_statistics_list_test).T\n",
    "split_statistics_df_val = pd.DataFrame(split_statistics_list_val).T\n",
    "\n",
    "split_statistics_df_test.columns = ['test']\n",
    "split_statistics_df_val.columns = ['validation']"
   ]
  },
  {
   "cell_type": "code",
   "execution_count": 69,
   "metadata": {
    "colab": {
     "base_uri": "https://localhost:8080/",
     "height": 300
    },
    "id": "Q-tet9i2SQlH",
    "outputId": "0dbb59e8-6136-4012-e4c2-ee31eec9b64a"
   },
   "outputs": [
    {
     "data": {
      "text/html": [
       "\n",
       "  <div id=\"df-9f0f5a28-3c1f-4ac6-969a-f3716d81e785\">\n",
       "    <div class=\"colab-df-container\">\n",
       "      <div>\n",
       "<style scoped>\n",
       "    .dataframe tbody tr th:only-of-type {\n",
       "        vertical-align: middle;\n",
       "    }\n",
       "\n",
       "    .dataframe tbody tr th {\n",
       "        vertical-align: top;\n",
       "    }\n",
       "\n",
       "    .dataframe thead th {\n",
       "        text-align: right;\n",
       "    }\n",
       "</style>\n",
       "<table border=\"1\" class=\"dataframe\">\n",
       "  <thead>\n",
       "    <tr style=\"text-align: right;\">\n",
       "      <th></th>\n",
       "      <th>test</th>\n",
       "      <th>validation</th>\n",
       "    </tr>\n",
       "  </thead>\n",
       "  <tbody>\n",
       "    <tr>\n",
       "      <th>Black and White Thinking</th>\n",
       "      <td>[3, 4.62%]</td>\n",
       "      <td>[2, 3.33%]</td>\n",
       "    </tr>\n",
       "    <tr>\n",
       "      <th>Personalization</th>\n",
       "      <td>[3, 4.62%]</td>\n",
       "      <td>[5, 8.33%]</td>\n",
       "    </tr>\n",
       "    <tr>\n",
       "      <th>Overgeneralization</th>\n",
       "      <td>[4, 6.15%]</td>\n",
       "      <td>[4, 6.67%]</td>\n",
       "    </tr>\n",
       "    <tr>\n",
       "      <th>Labeling</th>\n",
       "      <td>[6, 9.23%]</td>\n",
       "      <td>[8, 13.33%]</td>\n",
       "    </tr>\n",
       "    <tr>\n",
       "      <th>Selective Abstraction</th>\n",
       "      <td>[6, 9.23%]</td>\n",
       "      <td>[3, 5.0%]</td>\n",
       "    </tr>\n",
       "    <tr>\n",
       "      <th>Arbitrary Inference</th>\n",
       "      <td>[10, 15.38%]</td>\n",
       "      <td>[10, 16.67%]</td>\n",
       "    </tr>\n",
       "    <tr>\n",
       "      <th>Not Distorted</th>\n",
       "      <td>[15, 23.08%]</td>\n",
       "      <td>[16, 26.67%]</td>\n",
       "    </tr>\n",
       "    <tr>\n",
       "      <th>Catastrophizing</th>\n",
       "      <td>[18, 27.69%]</td>\n",
       "      <td>[12, 20.0%]</td>\n",
       "    </tr>\n",
       "  </tbody>\n",
       "</table>\n",
       "</div>\n",
       "      <button class=\"colab-df-convert\" onclick=\"convertToInteractive('df-9f0f5a28-3c1f-4ac6-969a-f3716d81e785')\"\n",
       "              title=\"Convert this dataframe to an interactive table.\"\n",
       "              style=\"display:none;\">\n",
       "        \n",
       "  <svg xmlns=\"http://www.w3.org/2000/svg\" height=\"24px\"viewBox=\"0 0 24 24\"\n",
       "       width=\"24px\">\n",
       "    <path d=\"M0 0h24v24H0V0z\" fill=\"none\"/>\n",
       "    <path d=\"M18.56 5.44l.94 2.06.94-2.06 2.06-.94-2.06-.94-.94-2.06-.94 2.06-2.06.94zm-11 1L8.5 8.5l.94-2.06 2.06-.94-2.06-.94L8.5 2.5l-.94 2.06-2.06.94zm10 10l.94 2.06.94-2.06 2.06-.94-2.06-.94-.94-2.06-.94 2.06-2.06.94z\"/><path d=\"M17.41 7.96l-1.37-1.37c-.4-.4-.92-.59-1.43-.59-.52 0-1.04.2-1.43.59L10.3 9.45l-7.72 7.72c-.78.78-.78 2.05 0 2.83L4 21.41c.39.39.9.59 1.41.59.51 0 1.02-.2 1.41-.59l7.78-7.78 2.81-2.81c.8-.78.8-2.07 0-2.86zM5.41 20L4 18.59l7.72-7.72 1.47 1.35L5.41 20z\"/>\n",
       "  </svg>\n",
       "      </button>\n",
       "      \n",
       "  <style>\n",
       "    .colab-df-container {\n",
       "      display:flex;\n",
       "      flex-wrap:wrap;\n",
       "      gap: 12px;\n",
       "    }\n",
       "\n",
       "    .colab-df-convert {\n",
       "      background-color: #E8F0FE;\n",
       "      border: none;\n",
       "      border-radius: 50%;\n",
       "      cursor: pointer;\n",
       "      display: none;\n",
       "      fill: #1967D2;\n",
       "      height: 32px;\n",
       "      padding: 0 0 0 0;\n",
       "      width: 32px;\n",
       "    }\n",
       "\n",
       "    .colab-df-convert:hover {\n",
       "      background-color: #E2EBFA;\n",
       "      box-shadow: 0px 1px 2px rgba(60, 64, 67, 0.3), 0px 1px 3px 1px rgba(60, 64, 67, 0.15);\n",
       "      fill: #174EA6;\n",
       "    }\n",
       "\n",
       "    [theme=dark] .colab-df-convert {\n",
       "      background-color: #3B4455;\n",
       "      fill: #D2E3FC;\n",
       "    }\n",
       "\n",
       "    [theme=dark] .colab-df-convert:hover {\n",
       "      background-color: #434B5C;\n",
       "      box-shadow: 0px 1px 3px 1px rgba(0, 0, 0, 0.15);\n",
       "      filter: drop-shadow(0px 1px 2px rgba(0, 0, 0, 0.3));\n",
       "      fill: #FFFFFF;\n",
       "    }\n",
       "  </style>\n",
       "\n",
       "      <script>\n",
       "        const buttonEl =\n",
       "          document.querySelector('#df-9f0f5a28-3c1f-4ac6-969a-f3716d81e785 button.colab-df-convert');\n",
       "        buttonEl.style.display =\n",
       "          google.colab.kernel.accessAllowed ? 'block' : 'none';\n",
       "\n",
       "        async function convertToInteractive(key) {\n",
       "          const element = document.querySelector('#df-9f0f5a28-3c1f-4ac6-969a-f3716d81e785');\n",
       "          const dataTable =\n",
       "            await google.colab.kernel.invokeFunction('convertToInteractive',\n",
       "                                                     [key], {});\n",
       "          if (!dataTable) return;\n",
       "\n",
       "          const docLinkHtml = 'Like what you see? Visit the ' +\n",
       "            '<a target=\"_blank\" href=https://colab.research.google.com/notebooks/data_table.ipynb>data table notebook</a>'\n",
       "            + ' to learn more about interactive tables.';\n",
       "          element.innerHTML = '';\n",
       "          dataTable['output_type'] = 'display_data';\n",
       "          await google.colab.output.renderOutput(dataTable, element);\n",
       "          const docLink = document.createElement('div');\n",
       "          docLink.innerHTML = docLinkHtml;\n",
       "          element.appendChild(docLink);\n",
       "        }\n",
       "      </script>\n",
       "    </div>\n",
       "  </div>\n",
       "  "
      ],
      "text/plain": [
       "                                  test    validation\n",
       "Black and White Thinking    [3, 4.62%]    [2, 3.33%]\n",
       "Personalization             [3, 4.62%]    [5, 8.33%]\n",
       "Overgeneralization          [4, 6.15%]    [4, 6.67%]\n",
       "Labeling                    [6, 9.23%]   [8, 13.33%]\n",
       "Selective Abstraction       [6, 9.23%]     [3, 5.0%]\n",
       "Arbitrary Inference       [10, 15.38%]  [10, 16.67%]\n",
       "Not Distorted             [15, 23.08%]  [16, 26.67%]\n",
       "Catastrophizing           [18, 27.69%]   [12, 20.0%]"
      ]
     },
     "execution_count": 69,
     "metadata": {},
     "output_type": "execute_result"
    }
   ],
   "source": [
    "split_statistics_df_test.join(split_statistics_df_val)"
   ]
  },
  {
   "cell_type": "markdown",
   "metadata": {
    "id": "Ec5LrZhR5mak"
   },
   "source": [
    "Save all splits to JSON"
   ]
  },
  {
   "cell_type": "code",
   "execution_count": 70,
   "metadata": {
    "id": "buumv5ky6gwG"
   },
   "outputs": [],
   "source": [
    "#SAVE TRAINING DATA AS JSON\n",
    "train_dataset = pd.merge(X_train, y_train, left_index = True, right_index=True)\n",
    "train_dataset.to_json('train_dataset.json', orient=\"records\", lines = True)"
   ]
  },
  {
   "cell_type": "code",
   "execution_count": 71,
   "metadata": {
    "id": "MdC38uT95owS"
   },
   "outputs": [],
   "source": [
    "#SAVE VALIDATION DATASET AS JSON\n",
    "validation_dataset = pd.merge(X_val, y_val, left_index = True, right_index=True)\n",
    "validation_dataset.to_json('validation_dataset.json', orient=\"records\", lines = True)"
   ]
  },
  {
   "cell_type": "code",
   "execution_count": 72,
   "metadata": {
    "id": "t8hnMz7I7Mxk"
   },
   "outputs": [],
   "source": [
    "#SAVE TESTING DATASET AS JSON\n",
    "test_dataset = pd.merge(X_test, y_test, left_index = True, right_index=True)\n",
    "test_dataset.to_json('test_dataset.json', orient=\"records\", lines = True)"
   ]
  }
 ],
 "metadata": {
  "colab": {
   "collapsed_sections": [],
   "name": "Data preparation",
   "provenance": []
  },
  "kernelspec": {
   "display_name": "Python 3",
   "language": "python",
   "name": "python3"
  },
  "language_info": {
   "codemirror_mode": {
    "name": "ipython",
    "version": 3
   },
   "file_extension": ".py",
   "mimetype": "text/x-python",
   "name": "python",
   "nbconvert_exporter": "python",
   "pygments_lexer": "ipython3",
   "version": "3.8.3"
  }
 },
 "nbformat": 4,
 "nbformat_minor": 1
}
