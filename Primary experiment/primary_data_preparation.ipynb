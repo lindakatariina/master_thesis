{
  "nbformat": 4,
  "nbformat_minor": 0,
  "metadata": {
    "colab": {
      "name": "Multiclass - Predicting cognitive distortions based on Reddit posts",
      "provenance": [],
      "collapsed_sections": []
    },
    "kernelspec": {
      "name": "python3",
      "display_name": "Python 3"
    },
    "language_info": {
      "name": "python"
    }
  },
  "cells": [
    {
      "cell_type": "markdown",
      "source": [
        "NOTE: If some rows are commented out, it means that it is done for data protection reasons not to display unique id's of the posts. In the process of the work, these lines were used. Also some descriptive lines where id-s were displayed were eliminated from this file for security reasons but were a part of the work."
      ],
      "metadata": {
        "id": "06OsZcPWsbFu"
      }
    },
    {
      "cell_type": "markdown",
      "metadata": {
        "id": "QLCHeQfHTjkP"
      },
      "source": [
        "# Importing necessary packages"
      ]
    },
    {
      "cell_type": "code",
      "metadata": {
        "id": "LXv3HTFASTCX"
      },
      "source": [
        "import pandas as pd\n",
        "import numpy as np\n",
        "import copy\n",
        "import json\n",
        "import matplotlib.pyplot as plt\n",
        "import seaborn as sns; sns.set_theme()\n",
        "from sklearn.metrics import cohen_kappa_score\n",
        "from sklearn.metrics import confusion_matrix\n",
        "from sklearn.metrics import classification_report\n",
        "from nltk.metrics.agreement import AnnotationTask"
      ],
      "execution_count": 1,
      "outputs": []
    },
    {
      "cell_type": "markdown",
      "metadata": {
        "id": "pQj6tIMQbONo"
      },
      "source": [
        "# Data Preparation"
      ]
    },
    {
      "cell_type": "markdown",
      "source": [
        "## Initial investigation and preparation"
      ],
      "metadata": {
        "id": "z2d8aO5ASTux"
      }
    },
    {
      "cell_type": "code",
      "metadata": {
        "id": "SL5EF2nKbRsK"
      },
      "source": [
        "#READING IN DATA FROM FILES\n",
        "GAD0_0 = pd.read_json('Reddit_GAD0_0.json', lines = True)\n",
        "GAD0_1 = pd.read_json('Reddit_GAD0_1.json', lines = True)\n",
        "GAD1_0 = pd.read_json('Reddit_GAD1_0.json', lines = True)\n",
        "GAD1_1 = pd.read_json('Reddit_GAD1_1.json', lines = True)\n",
        "GAD2_0 = pd.read_json('Reddit_GAD2_0.json', lines = True)\n",
        "GAD2_1 = pd.read_json('Reddit_GAD2_1.json', lines = True)\n",
        "GAD3_0 = pd.read_json('Reddit_GAD3_0.json', lines = True)\n",
        "GAD3_1 = pd.read_json('Reddit_GAD3_1.json', lines = True)\n",
        "GAD4_0 = pd.read_json('Reddit_GAD4_0.json', lines = True)\n",
        "GAD4_1 = pd.read_json('Reddit_GAD4_1.json', lines = True)"
      ],
      "execution_count": 2,
      "outputs": []
    },
    {
      "cell_type": "markdown",
      "metadata": {
        "id": "youwgC5zb2vK"
      },
      "source": [
        "***Annotator 1 dataset***"
      ]
    },
    {
      "cell_type": "code",
      "metadata": {
        "id": "XPB4-99p8g6u"
      },
      "source": [
        "GAD0 = GAD0_0.append([GAD1_0, GAD2_0, GAD3_0, GAD4_0])\n",
        "#EXAMPLE PRINT\n",
        "#GAD0.head()"
      ],
      "execution_count": 3,
      "outputs": []
    },
    {
      "cell_type": "code",
      "metadata": {
        "id": "xkPLp99SEZsi"
      },
      "source": [
        "#PREPARE ANNOTATOR 1 DATASET WITH NONE TYPES IN LABEL, NOTE COLUMN\n",
        "\n",
        "#SEPARATE CONTENT COLUMN INTO TWO COLUMNS: UNIQUE_ID AND TEXT\n",
        "GAD0['unique_id'] = GAD0.content.str.split('\\n', expand = True)[0]\n",
        "GAD0['text'] = GAD0.content.str.split('\\n',1, expand = True)[1]\n",
        "\n",
        "GAD0['label_1'] = GAD0['annotation'].map(lambda x: x if x == None else x['labels'])\n",
        "GAD0['note_1'] = GAD0['annotation'].map(lambda x: x if x == None else x['note'])\n",
        "\n",
        "#DROP UNNECESSARY COLUMNS\n",
        "GAD0 = GAD0.drop(['content', 'annotation', 'extras', 'metadata'], axis = 1)\n",
        "\n",
        "#HAVE A LOOK AT THE FINAL DATAFRAME\n",
        "#GAD0.head()"
      ],
      "execution_count": 4,
      "outputs": []
    },
    {
      "cell_type": "markdown",
      "metadata": {
        "id": "ryT4zxjeb-ic"
      },
      "source": [
        "***Annotator 2 dataset***"
      ]
    },
    {
      "cell_type": "code",
      "metadata": {
        "id": "_WRW_o2e86TJ"
      },
      "source": [
        "GAD1 = GAD0_1.append([GAD1_1, GAD2_1, GAD3_1, GAD4_1])\n",
        "#EXAMPLE PRINT\n",
        "#GAD1.head()"
      ],
      "execution_count": 5,
      "outputs": []
    },
    {
      "cell_type": "code",
      "metadata": {
        "id": "fWVMKIGIHbEe"
      },
      "source": [
        "#PREPARE ANNOTATOR 2 DATASET WITH NONE TYPES IN LABEL, NOTE COLUMN\n",
        "\n",
        "#SEPARATE CONTENT COLUMN INTO TWO COLUMNS: UNIQUE_ID AND TEXT\n",
        "GAD1['unique_id'] = GAD1.content.str.split('\\n', expand = True)[0]\n",
        "GAD1['text'] = GAD1.content.str.split('\\n',1, expand = True)[1]\n",
        "\n",
        "GAD1['label_2'] = GAD1['annotation'].map(lambda x: x if x == None else x['labels'])\n",
        "GAD1['note_2'] = GAD1['annotation'].map(lambda x: x if x == None else x['note'])\n",
        "\n",
        "#DROP UNNECESSARY COLUMNS\n",
        "GAD1 = GAD1.drop(['content', 'annotation', 'extras', 'metadata'], axis = 1)\n",
        "\n",
        "#HAVE A LOOK AT THE FINAL DATAFRAME\n",
        "#GAD1.head()"
      ],
      "execution_count": 6,
      "outputs": []
    },
    {
      "cell_type": "markdown",
      "source": [
        "Eliminating datapoints which have been multi-labelled -> annotation guideline indicates that each datapoint should have one label"
      ],
      "metadata": {
        "id": "WPz35N0GWnRT"
      }
    },
    {
      "cell_type": "code",
      "source": [
        "#Transform dataframes into lists\n",
        "GAD0_list = GAD0.values.tolist()\n",
        "GAD1_list = GAD1.values.tolist()"
      ],
      "metadata": {
        "id": "mZX9GdeoXha6"
      },
      "execution_count": 7,
      "outputs": []
    },
    {
      "cell_type": "code",
      "source": [
        "#Eliminate rows with multiple labels\n",
        "new_GAD0 = []\n",
        "\n",
        "for row in GAD0_list:\n",
        "  if row[2] == None:\n",
        "    new_GAD0.append(row)\n",
        "  elif len(row[2]) == 0:\n",
        "    new_GAD0.append(row)\n",
        "  elif len(row[2]) == 1: \n",
        "    new_GAD0.append(row)\n",
        "\n",
        "len(new_GAD0)"
      ],
      "metadata": {
        "colab": {
          "base_uri": "https://localhost:8080/"
        },
        "id": "TWtsVhHuXhgk",
        "outputId": "54ba84ee-d8af-4981-b29d-1c603df4f80a"
      },
      "execution_count": 8,
      "outputs": [
        {
          "output_type": "execute_result",
          "data": {
            "text/plain": [
              "484"
            ]
          },
          "metadata": {},
          "execution_count": 8
        }
      ]
    },
    {
      "cell_type": "code",
      "source": [
        "#Eliminate rows with multiple labels\n",
        "new_GAD1 = []\n",
        "\n",
        "for row in GAD1_list:\n",
        "  if row[2] == None:\n",
        "    new_GAD1.append(row)\n",
        "  elif len(row[2]) == 0:\n",
        "    new_GAD1.append(row)\n",
        "  elif len(row[2]) == 1: \n",
        "    new_GAD1.append(row)\n",
        "\n",
        "len(new_GAD1)"
      ],
      "metadata": {
        "colab": {
          "base_uri": "https://localhost:8080/"
        },
        "id": "f5E8CiqecCJw",
        "outputId": "a5b64436-7d92-432f-c15f-61acc9449b8f"
      },
      "execution_count": 9,
      "outputs": [
        {
          "output_type": "execute_result",
          "data": {
            "text/plain": [
              "484"
            ]
          },
          "metadata": {},
          "execution_count": 9
        }
      ]
    },
    {
      "cell_type": "code",
      "source": [
        "#transform back into dataframes\n",
        "new_GAD0_df = pd.DataFrame(new_GAD0)\n",
        "new_GAD1_df = pd.DataFrame(new_GAD1)"
      ],
      "metadata": {
        "id": "PLqSEQpncWnj"
      },
      "execution_count": 10,
      "outputs": []
    },
    {
      "cell_type": "code",
      "source": [
        "#lists to string\n",
        "new_GAD0_df[2] = new_GAD0_df[2].apply(lambda x: x if x == None else ','.join(map(str, x))) #or len(x) == 0 \n",
        "new_GAD1_df[2] = new_GAD1_df[2].apply(lambda x: x if x == None else ','.join(map(str, x))) #or len(x) == 0 "
      ],
      "metadata": {
        "id": "VdxA3GNscnoC"
      },
      "execution_count": 11,
      "outputs": []
    },
    {
      "cell_type": "code",
      "source": [
        "#new_GAD0_df[2].value_counts()"
      ],
      "metadata": {
        "id": "sb3FEsiQdy0R"
      },
      "execution_count": 12,
      "outputs": []
    },
    {
      "cell_type": "code",
      "source": [
        "#new_GAD1_df[2].value_counts()"
      ],
      "metadata": {
        "id": "RYrKislXd95F"
      },
      "execution_count": 13,
      "outputs": []
    },
    {
      "cell_type": "code",
      "source": [
        "new_GAD0_df = new_GAD0_df.rename(columns = {0: 'unique_id', 1: 'text', 2: 'label_1', 3: 'note_1'})\n",
        "new_GAD1_df = new_GAD1_df.rename(columns = {0: 'unique_id', 1: 'text', 2: 'label_1', 3: 'note_1'})"
      ],
      "metadata": {
        "id": "npshd1sXfAAP"
      },
      "execution_count": 14,
      "outputs": []
    },
    {
      "cell_type": "markdown",
      "source": [
        "Merging two annotator dataframes into one"
      ],
      "metadata": {
        "id": "ecUqg1ntj6xi"
      }
    },
    {
      "cell_type": "code",
      "source": [
        "df_both_annotators_new = pd.merge(new_GAD0_df, new_GAD1_df, on=['unique_id', 'text'], how='inner')\n",
        "#df_both_annotators_new.head()"
      ],
      "metadata": {
        "id": "UOXvZIOFeufQ"
      },
      "execution_count": 15,
      "outputs": []
    },
    {
      "cell_type": "code",
      "source": [
        "#SOME LABELS ARE OF NONE TYPE\n",
        "#df_both_annotators_new[df_both_annotators_new['label_1_x'].isna()]"
      ],
      "metadata": {
        "id": "qlU16iwGgssj"
      },
      "execution_count": 16,
      "outputs": []
    },
    {
      "cell_type": "code",
      "source": [
        "#SOME LABELS ARE OF NONE TYPE\n",
        "#df_both_annotators_new[df_both_annotators_new['label_1_y'].isna()]"
      ],
      "metadata": {
        "id": "uVrJHyBog0vo"
      },
      "execution_count": 17,
      "outputs": []
    },
    {
      "cell_type": "code",
      "source": [
        "#Which rows have empty labels?\n",
        "#df_both_annotators_new[df_both_annotators_new.astype(str)['label_1_x'] == '']"
      ],
      "metadata": {
        "id": "rXeDxYLvZElh"
      },
      "execution_count": 18,
      "outputs": []
    },
    {
      "cell_type": "code",
      "source": [
        "#Which rows have empty labels?\n",
        "#df_both_annotators_new[df_both_annotators_new.astype(str)['label_1_y'] == '']"
      ],
      "metadata": {
        "id": "kSjcArbMdaKV"
      },
      "execution_count": 19,
      "outputs": []
    },
    {
      "cell_type": "code",
      "source": [
        "#replacing empty string with NaN\n",
        "df_both_annotators_new['label_1_x'] = df_both_annotators_new['label_1_x'].replace('', np.nan)\n",
        "df_both_annotators_new['label_1_y'] = df_both_annotators_new['label_1_y'].replace('', np.nan)"
      ],
      "metadata": {
        "id": "3tfXkGS_fsK9"
      },
      "execution_count": 20,
      "outputs": []
    },
    {
      "cell_type": "code",
      "source": [
        "df_both_annotators_new = df_both_annotators_new.where(pd.notnull(df_both_annotators_new), None)"
      ],
      "metadata": {
        "id": "mXeoa2HRUFAc"
      },
      "execution_count": 21,
      "outputs": []
    },
    {
      "cell_type": "markdown",
      "source": [
        "Word cloud"
      ],
      "metadata": {
        "id": "YKG1_TbbHuoJ"
      }
    },
    {
      "cell_type": "code",
      "source": [
        "#https://towardsdatascience.com/create-word-cloud-into-any-shape-you-want-using-python-d0b88834bc32\n",
        "\n",
        "text = \" \".join(review for review in df_both_annotators_new.text)\n",
        "import numpy as np\n",
        "import pandas as pd\n",
        "from os import path\n",
        "from PIL import Image\n",
        "from wordcloud import WordCloud, STOPWORDS, ImageColorGenerator\n",
        "\n",
        "import matplotlib.pyplot as plt\n",
        "from PIL import Image\n",
        "import numpy as np\n",
        "import matplotlib.pyplot as plt\n",
        "\n",
        "mask = np.array(Image.open('cloud2.jpg'))\n",
        "wc = WordCloud(\n",
        "               mask=mask, background_color=\"white\",\n",
        "               max_words=50, max_font_size=256,\n",
        "               random_state=42, width=mask.shape[1],\n",
        "               height=mask.shape[0])\n",
        "wc.generate(text)\n",
        "plt.imshow(wc, interpolation=\"bilinear\")\n",
        "plt.axis('off')\n",
        "plt.show()"
      ],
      "metadata": {
        "colab": {
          "base_uri": "https://localhost:8080/",
          "height": 248
        },
        "id": "o9NAlD_vJNZH",
        "outputId": "894e16db-7fff-4ae5-b052-07c14e72be11"
      },
      "execution_count": 22,
      "outputs": [
        {
          "output_type": "display_data",
          "data": {
            "text/plain": [
              "<Figure size 432x288 with 1 Axes>"
            ],
            "image/png": "[encoded data removed]"
          },
          "metadata": {
            "needs_background": "light"
          }
        }
      ]
    },
    {
      "cell_type": "markdown",
      "source": [
        "## Cohen's Kappa"
      ],
      "metadata": {
        "id": "I_fBWvQ2Sigm"
      }
    },
    {
      "cell_type": "code",
      "source": [
        "#TRANSFORMING ANNOTATORS' LABELS INTO LISTS AND MAKING THEM INTO BINARY FORM\n",
        "labels_ann1 = list(df_both_annotators_new['label_1_x'])\n",
        "labels_ann2 = list(df_both_annotators_new['label_1_y'])\n",
        "\n",
        "labels_ann1_encoded = []\n",
        "labels_ann2_encoded = []\n",
        "\n",
        "\n",
        "for x in labels_ann1:\n",
        "  if x is not None:\n",
        "    if 'Not Distorted' in x:\n",
        "        labels_ann1_encoded.append('Not Distorted')\n",
        "    elif len(x) == 0:\n",
        "        labels_ann1_encoded.append(None)\n",
        "    else:\n",
        "      labels_ann1_encoded.append('Distorted')\n",
        "  else:\n",
        "      labels_ann1_encoded.append(None)\n",
        "\n",
        "for x in labels_ann2:\n",
        "  if x is not None:\n",
        "    if 'Not Distorted' in x:\n",
        "        labels_ann2_encoded.append('Not Distorted')\n",
        "    elif len(x) == 0:\n",
        "        labels_ann2_encoded.append(None)\n",
        "    else:\n",
        "      labels_ann2_encoded.append('Distorted')\n",
        "  else:\n",
        "      labels_ann2_encoded.append(None)"
      ],
      "metadata": {
        "id": "Os27qZbzhE1e"
      },
      "execution_count": 23,
      "outputs": []
    },
    {
      "cell_type": "code",
      "source": [
        "#TAKE A LOOK AT THE RESULT\n",
        "#print(len(labels_ann1_encoded))\n",
        "#print(labels_ann1_encoded)\n",
        "\n",
        "#print(len(labels_ann2_encoded))\n",
        "#print(labels_ann2_encoded)"
      ],
      "metadata": {
        "id": "MYD1ljRuq6bt"
      },
      "execution_count": 24,
      "outputs": []
    },
    {
      "cell_type": "code",
      "source": [
        "#ADD LISTS TO DATASET AND LOOK AT THE RESULT\n",
        "df_both_annotators_new['label_1_x_encoded'] = pd.Series(labels_ann1_encoded)\n",
        "df_both_annotators_new['label_1_y_encoded'] = pd.Series(labels_ann2_encoded)\n",
        "#df_both_annotators_new.head()"
      ],
      "metadata": {
        "id": "OrgabDxPa98P"
      },
      "execution_count": 25,
      "outputs": []
    },
    {
      "cell_type": "code",
      "source": [
        "df_both_annotators_new['label_1_x_encoded'].value_counts()"
      ],
      "metadata": {
        "colab": {
          "base_uri": "https://localhost:8080/"
        },
        "id": "c3UTciFXkTml",
        "outputId": "3d86f1bb-ab47-4b47-b840-18d9a2b1f419"
      },
      "execution_count": 26,
      "outputs": [
        {
          "output_type": "execute_result",
          "data": {
            "text/plain": [
              "Not Distorted    237\n",
              "Distorted        230\n",
              "Name: label_1_x_encoded, dtype: int64"
            ]
          },
          "metadata": {},
          "execution_count": 26
        }
      ]
    },
    {
      "cell_type": "code",
      "source": [
        "df_both_annotators_new['label_1_y_encoded'].value_counts()"
      ],
      "metadata": {
        "colab": {
          "base_uri": "https://localhost:8080/"
        },
        "id": "tKXo_OznkXWy",
        "outputId": "930ddb07-25e4-446f-9123-8e39a8d4a13a"
      },
      "execution_count": 27,
      "outputs": [
        {
          "output_type": "execute_result",
          "data": {
            "text/plain": [
              "Not Distorted    232\n",
              "Distorted        231\n",
              "Name: label_1_y_encoded, dtype: int64"
            ]
          },
          "metadata": {},
          "execution_count": 27
        }
      ]
    },
    {
      "cell_type": "code",
      "source": [
        "df_both_annotators_new['label_1_x'].value_counts()"
      ],
      "metadata": {
        "colab": {
          "base_uri": "https://localhost:8080/"
        },
        "id": "WzXJ-TQjk0Du",
        "outputId": "492d78ce-c92c-475e-f4ac-699673bd78bd"
      },
      "execution_count": 28,
      "outputs": [
        {
          "output_type": "execute_result",
          "data": {
            "text/plain": [
              "Not Distorted               237\n",
              "Catastrophizing             107\n",
              "Arbitrary Inference          38\n",
              "Labeling                     21\n",
              "Overgeneralization           21\n",
              "Personalization              18\n",
              "Selective Abstraction        15\n",
              "Black and White Thinking     10\n",
              "Name: label_1_x, dtype: int64"
            ]
          },
          "metadata": {},
          "execution_count": 28
        }
      ]
    },
    {
      "cell_type": "code",
      "source": [
        "df_both_annotators_new['label_1_y'].value_counts()"
      ],
      "metadata": {
        "colab": {
          "base_uri": "https://localhost:8080/"
        },
        "id": "dX2oWgCnk5an",
        "outputId": "a00efcd1-65a8-4659-fb92-3b7808342c1a"
      },
      "execution_count": 29,
      "outputs": [
        {
          "output_type": "execute_result",
          "data": {
            "text/plain": [
              "Not Distorted               232\n",
              "Catastrophizing              89\n",
              "Arbitrary Inference          41\n",
              "Labeling                     30\n",
              "Overgeneralization           27\n",
              "Personalization              26\n",
              "Selective Abstraction        15\n",
              "Black and White Thinking      3\n",
              "Name: label_1_y, dtype: int64"
            ]
          },
          "metadata": {},
          "execution_count": 29
        }
      ]
    },
    {
      "cell_type": "code",
      "source": [
        "#I NEED TO FILTER OUT NULL VALUES IN ORDER TO CALCULATE COHEN'S KAPPA SCORE\n",
        "proov_df = copy.deepcopy(df_both_annotators_new)\n",
        "proov_df = proov_df[proov_df.label_1_x_encoded.notnull()]\n",
        "proov_df = proov_df[proov_df.label_1_y_encoded.notnull()]\n",
        "\n",
        "#CALCULATING THE KAPPA SCORE\n",
        "cohen_kappa_score(proov_df['label_1_x_encoded'], proov_df['label_1_y_encoded'])\n",
        "\n",
        "#https://towardsdatascience.com/inter-rater-agreement-kappas-69cd8b91ff75 -> FAIR AGREEMENT!"
      ],
      "metadata": {
        "colab": {
          "base_uri": "https://localhost:8080/"
        },
        "id": "Ygur3gVfeOh3",
        "outputId": "ade08771-542e-4f75-d492-110e3dcea4a4"
      },
      "execution_count": 30,
      "outputs": [
        {
          "output_type": "execute_result",
          "data": {
            "text/plain": [
              "0.2384938039876655"
            ]
          },
          "metadata": {},
          "execution_count": 30
        }
      ]
    },
    {
      "cell_type": "code",
      "source": [
        "proov_df_maatriks = copy.deepcopy(proov_df)\n",
        "proov_df_maatriks = proov_df_maatriks.rename(columns={\"label_1_x\":\"Annotator_1\", \"label_1_y\":\"Annotator_2\", \"label_1_x_encoded\":\"Annotator_1_binary\", \"label_1_y_encoded\":\"Annotator_2_binary\"})"
      ],
      "metadata": {
        "id": "HkMDcZCurf5Y"
      },
      "execution_count": 31,
      "outputs": []
    },
    {
      "cell_type": "code",
      "source": [
        "agreement_matrix_binary = pd.crosstab(proov_df_maatriks['Annotator_1_binary'], proov_df_maatriks['Annotator_2_binary'])"
      ],
      "metadata": {
        "id": "ycBpGMUMsODc"
      },
      "execution_count": 33,
      "outputs": []
    },
    {
      "cell_type": "markdown",
      "source": [
        "Confusion matrix for binary and multi-class"
      ],
      "metadata": {
        "id": "bVcmS6kho1gR"
      }
    },
    {
      "cell_type": "code",
      "source": [
        "fig, ax = plt.subplots(figsize=(11,7))\n",
        "ax = sns.heatmap(agreement_matrix_binary, cmap=\"Blues\", annot=True, fmt='g')"
      ],
      "metadata": {
        "colab": {
          "base_uri": "https://localhost:8080/",
          "height": 447
        },
        "id": "maU_IMg8o4Et",
        "outputId": "a86ea03e-e913-4f81-989e-e3cbd5ff8be4"
      },
      "execution_count": 34,
      "outputs": [
        {
          "output_type": "display_data",
          "data": {
            "text/plain": [
              "<Figure size 792x504 with 2 Axes>"
            ],
            "image/png": "[encoded data removed]"
          },
          "metadata": {
            "needs_background": "light"
          }
        }
      ]
    },
    {
      "cell_type": "code",
      "source": [
        "#I TAKE OUT 'NOT DISTORTED' FROM LABEL1 AND LABEL2\n",
        "without_not_distorted = df_both_annotators_new[df_both_annotators_new.label_1_x != 'Not Distorted']\n",
        "without_not_distorted = without_not_distorted[without_not_distorted.label_1_y != 'Not Distorted']\n",
        "#without_not_distorted.head()"
      ],
      "metadata": {
        "id": "cUoyb9RRlafO"
      },
      "execution_count": 35,
      "outputs": []
    },
    {
      "cell_type": "code",
      "source": [
        "#I CALCULATE AGREEMENT MATRIX WITH ONLY DISTORTED LABELS\n",
        "agreement_matrix_without_not_distorted = pd.crosstab(without_not_distorted['label_1_x'], without_not_distorted['label_1_y']) \n",
        "agreement_matrix_without_not_distorted"
      ],
      "metadata": {
        "colab": {
          "base_uri": "https://localhost:8080/",
          "height": 300
        },
        "id": "0nucNILjl0Mo",
        "outputId": "63366c43-e27a-4c04-e52a-b78d8bc32481"
      },
      "execution_count": 36,
      "outputs": [
        {
          "output_type": "execute_result",
          "data": {
            "text/plain": [
              "label_1_y                 Arbitrary Inference  Black and White Thinking  \\\n",
              "label_1_x                                                                 \n",
              "Arbitrary Inference                         1                         1   \n",
              "Black and White Thinking                    1                         0   \n",
              "Catastrophizing                            10                         0   \n",
              "Labeling                                    2                         0   \n",
              "Overgeneralization                          1                         0   \n",
              "Personalization                             5                         0   \n",
              "Selective Abstraction                       0                         0   \n",
              "\n",
              "label_1_y                 Catastrophizing  Labeling  Overgeneralization  \\\n",
              "label_1_x                                                                 \n",
              "Arbitrary Inference                     7         3                   1   \n",
              "Black and White Thinking                0         0                   1   \n",
              "Catastrophizing                        40         3                   8   \n",
              "Labeling                                1         7                   1   \n",
              "Overgeneralization                      2         4                   4   \n",
              "Personalization                         2         4                   0   \n",
              "Selective Abstraction                   4         2                   0   \n",
              "\n",
              "label_1_y                 Personalization  Selective Abstraction  \n",
              "label_1_x                                                         \n",
              "Arbitrary Inference                     6                      1  \n",
              "Black and White Thinking                0                      1  \n",
              "Catastrophizing                         5                      4  \n",
              "Labeling                                2                      0  \n",
              "Overgeneralization                      0                      0  \n",
              "Personalization                         3                      1  \n",
              "Selective Abstraction                   0                      2  "
            ],
            "text/html": [
              "\n",
              "  <div id=\"df-a0fc9484-866c-43a2-bb00-fcc4cf81f88e\">\n",
              "    <div class=\"colab-df-container\">\n",
              "      <div>\n",
              "<style scoped>\n",
              "    .dataframe tbody tr th:only-of-type {\n",
              "        vertical-align: middle;\n",
              "    }\n",
              "\n",
              "    .dataframe tbody tr th {\n",
              "        vertical-align: top;\n",
              "    }\n",
              "\n",
              "    .dataframe thead th {\n",
              "        text-align: right;\n",
              "    }\n",
              "</style>\n",
              "<table border=\"1\" class=\"dataframe\">\n",
              "  <thead>\n",
              "    <tr style=\"text-align: right;\">\n",
              "      <th>label_1_y</th>\n",
              "      <th>Arbitrary Inference</th>\n",
              "      <th>Black and White Thinking</th>\n",
              "      <th>Catastrophizing</th>\n",
              "      <th>Labeling</th>\n",
              "      <th>Overgeneralization</th>\n",
              "      <th>Personalization</th>\n",
              "      <th>Selective Abstraction</th>\n",
              "    </tr>\n",
              "    <tr>\n",
              "      <th>label_1_x</th>\n",
              "      <th></th>\n",
              "      <th></th>\n",
              "      <th></th>\n",
              "      <th></th>\n",
              "      <th></th>\n",
              "      <th></th>\n",
              "      <th></th>\n",
              "    </tr>\n",
              "  </thead>\n",
              "  <tbody>\n",
              "    <tr>\n",
              "      <th>Arbitrary Inference</th>\n",
              "      <td>1</td>\n",
              "      <td>1</td>\n",
              "      <td>7</td>\n",
              "      <td>3</td>\n",
              "      <td>1</td>\n",
              "      <td>6</td>\n",
              "      <td>1</td>\n",
              "    </tr>\n",
              "    <tr>\n",
              "      <th>Black and White Thinking</th>\n",
              "      <td>1</td>\n",
              "      <td>0</td>\n",
              "      <td>0</td>\n",
              "      <td>0</td>\n",
              "      <td>1</td>\n",
              "      <td>0</td>\n",
              "      <td>1</td>\n",
              "    </tr>\n",
              "    <tr>\n",
              "      <th>Catastrophizing</th>\n",
              "      <td>10</td>\n",
              "      <td>0</td>\n",
              "      <td>40</td>\n",
              "      <td>3</td>\n",
              "      <td>8</td>\n",
              "      <td>5</td>\n",
              "      <td>4</td>\n",
              "    </tr>\n",
              "    <tr>\n",
              "      <th>Labeling</th>\n",
              "      <td>2</td>\n",
              "      <td>0</td>\n",
              "      <td>1</td>\n",
              "      <td>7</td>\n",
              "      <td>1</td>\n",
              "      <td>2</td>\n",
              "      <td>0</td>\n",
              "    </tr>\n",
              "    <tr>\n",
              "      <th>Overgeneralization</th>\n",
              "      <td>1</td>\n",
              "      <td>0</td>\n",
              "      <td>2</td>\n",
              "      <td>4</td>\n",
              "      <td>4</td>\n",
              "      <td>0</td>\n",
              "      <td>0</td>\n",
              "    </tr>\n",
              "    <tr>\n",
              "      <th>Personalization</th>\n",
              "      <td>5</td>\n",
              "      <td>0</td>\n",
              "      <td>2</td>\n",
              "      <td>4</td>\n",
              "      <td>0</td>\n",
              "      <td>3</td>\n",
              "      <td>1</td>\n",
              "    </tr>\n",
              "    <tr>\n",
              "      <th>Selective Abstraction</th>\n",
              "      <td>0</td>\n",
              "      <td>0</td>\n",
              "      <td>4</td>\n",
              "      <td>2</td>\n",
              "      <td>0</td>\n",
              "      <td>0</td>\n",
              "      <td>2</td>\n",
              "    </tr>\n",
              "  </tbody>\n",
              "</table>\n",
              "</div>\n",
              "      <button class=\"colab-df-convert\" onclick=\"convertToInteractive('df-a0fc9484-866c-43a2-bb00-fcc4cf81f88e')\"\n",
              "              title=\"Convert this dataframe to an interactive table.\"\n",
              "              style=\"display:none;\">\n",
              "        \n",
              "  <svg xmlns=\"http://www.w3.org/2000/svg\" height=\"24px\"viewBox=\"0 0 24 24\"\n",
              "       width=\"24px\">\n",
              "    <path d=\"M0 0h24v24H0V0z\" fill=\"none\"/>\n",
              "    <path d=\"M18.56 5.44l.94 2.06.94-2.06 2.06-.94-2.06-.94-.94-2.06-.94 2.06-2.06.94zm-11 1L8.5 8.5l.94-2.06 2.06-.94-2.06-.94L8.5 2.5l-.94 2.06-2.06.94zm10 10l.94 2.06.94-2.06 2.06-.94-2.06-.94-.94-2.06-.94 2.06-2.06.94z\"/><path d=\"M17.41 7.96l-1.37-1.37c-.4-.4-.92-.59-1.43-.59-.52 0-1.04.2-1.43.59L10.3 9.45l-7.72 7.72c-.78.78-.78 2.05 0 2.83L4 21.41c.39.39.9.59 1.41.59.51 0 1.02-.2 1.41-.59l7.78-7.78 2.81-2.81c.8-.78.8-2.07 0-2.86zM5.41 20L4 18.59l7.72-7.72 1.47 1.35L5.41 20z\"/>\n",
              "  </svg>\n",
              "      </button>\n",
              "      \n",
              "  <style>\n",
              "    .colab-df-container {\n",
              "      display:flex;\n",
              "      flex-wrap:wrap;\n",
              "      gap: 12px;\n",
              "    }\n",
              "\n",
              "    .colab-df-convert {\n",
              "      background-color: #E8F0FE;\n",
              "      border: none;\n",
              "      border-radius: 50%;\n",
              "      cursor: pointer;\n",
              "      display: none;\n",
              "      fill: #1967D2;\n",
              "      height: 32px;\n",
              "      padding: 0 0 0 0;\n",
              "      width: 32px;\n",
              "    }\n",
              "\n",
              "    .colab-df-convert:hover {\n",
              "      background-color: #E2EBFA;\n",
              "      box-shadow: 0px 1px 2px rgba(60, 64, 67, 0.3), 0px 1px 3px 1px rgba(60, 64, 67, 0.15);\n",
              "      fill: #174EA6;\n",
              "    }\n",
              "\n",
              "    [theme=dark] .colab-df-convert {\n",
              "      background-color: #3B4455;\n",
              "      fill: #D2E3FC;\n",
              "    }\n",
              "\n",
              "    [theme=dark] .colab-df-convert:hover {\n",
              "      background-color: #434B5C;\n",
              "      box-shadow: 0px 1px 3px 1px rgba(0, 0, 0, 0.15);\n",
              "      filter: drop-shadow(0px 1px 2px rgba(0, 0, 0, 0.3));\n",
              "      fill: #FFFFFF;\n",
              "    }\n",
              "  </style>\n",
              "\n",
              "      <script>\n",
              "        const buttonEl =\n",
              "          document.querySelector('#df-a0fc9484-866c-43a2-bb00-fcc4cf81f88e button.colab-df-convert');\n",
              "        buttonEl.style.display =\n",
              "          google.colab.kernel.accessAllowed ? 'block' : 'none';\n",
              "\n",
              "        async function convertToInteractive(key) {\n",
              "          const element = document.querySelector('#df-a0fc9484-866c-43a2-bb00-fcc4cf81f88e');\n",
              "          const dataTable =\n",
              "            await google.colab.kernel.invokeFunction('convertToInteractive',\n",
              "                                                     [key], {});\n",
              "          if (!dataTable) return;\n",
              "\n",
              "          const docLinkHtml = 'Like what you see? Visit the ' +\n",
              "            '<a target=\"_blank\" href=https://colab.research.google.com/notebooks/data_table.ipynb>data table notebook</a>'\n",
              "            + ' to learn more about interactive tables.';\n",
              "          element.innerHTML = '';\n",
              "          dataTable['output_type'] = 'display_data';\n",
              "          await google.colab.output.renderOutput(dataTable, element);\n",
              "          const docLink = document.createElement('div');\n",
              "          docLink.innerHTML = docLinkHtml;\n",
              "          element.appendChild(docLink);\n",
              "        }\n",
              "      </script>\n",
              "    </div>\n",
              "  </div>\n",
              "  "
            ]
          },
          "metadata": {},
          "execution_count": 36
        }
      ]
    },
    {
      "cell_type": "code",
      "source": [
        "#I TAKE OUT 'NOT DISTORTED' FROM LABEL1 AND LABEL2\n",
        "without_not_distorted = proov_df_maatriks[proov_df_maatriks.Annotator_1 != 'Not Distorted']\n",
        "without_not_distorted = without_not_distorted[proov_df_maatriks.Annotator_2 != 'Not Distorted']\n",
        "#I CALCULATE AGREEMENT MATRIX WITH ONLY DISTORTED LABELS\n",
        "agreement_matrix_without_not_distorted = pd.crosstab(without_not_distorted['Annotator_1'], without_not_distorted['Annotator_2']) \n",
        "#I ILLUSTRATE THE RESULT\n",
        "fig, ax = plt.subplots(figsize=(11,7))\n",
        "ax = sns.heatmap(agreement_matrix_without_not_distorted, cmap=\"Blues\", annot=True)"
      ],
      "metadata": {
        "colab": {
          "base_uri": "https://localhost:8080/",
          "height": 618
        },
        "id": "toRXh0vUuKDM",
        "outputId": "47fc0f06-c1d3-4e1e-d19a-62460b5c0c4e"
      },
      "execution_count": 37,
      "outputs": [
        {
          "output_type": "stream",
          "name": "stderr",
          "text": [
            "/usr/local/lib/python3.7/dist-packages/ipykernel_launcher.py:3: UserWarning: Boolean Series key will be reindexed to match DataFrame index.\n",
            "  This is separate from the ipykernel package so we can avoid doing imports until\n"
          ]
        },
        {
          "output_type": "display_data",
          "data": {
            "text/plain": [
              "<Figure size 792x504 with 2 Axes>"
            ],
            "image/png": "[encoded data removed]"
          },
          "metadata": {
            "needs_background": "light"
          }
        }
      ]
    },
    {
      "cell_type": "markdown",
      "source": [
        "## Label binarization"
      ],
      "metadata": {
        "id": "nHFsplemSxL7"
      }
    },
    {
      "cell_type": "code",
      "metadata": {
        "id": "7EYoXbs9m_6k"
      },
      "source": [
        "#ANNOTATOR 1 \n",
        "proov = copy.deepcopy(df_both_annotators_new)\n",
        "s = proov['label_1_x'].explode()\n",
        "hot_encoded = proov.join(pd.crosstab(s.index, s))\n",
        "hot_encoded = hot_encoded.where(pd.notnull(hot_encoded), None)\n",
        "#hot_encoded.head()"
      ],
      "execution_count": 38,
      "outputs": []
    },
    {
      "cell_type": "code",
      "source": [
        "#ANNOTATOR 2\n",
        "proov2 = copy.deepcopy(df_both_annotators_new)\n",
        "s2 = proov2['label_1_y'].explode()\n",
        "hot_encoded2 = proov2.join(pd.crosstab(s2.index, s2))\n",
        "hot_encoded2 = hot_encoded2.where(pd.notnull(hot_encoded2), None)\n",
        "#hot_encoded2.head()"
      ],
      "metadata": {
        "id": "JrPH2_-axhCt"
      },
      "execution_count": 39,
      "outputs": []
    },
    {
      "cell_type": "code",
      "source": [
        "#RENAME THE COLUMNS FOR BETTER UNDERSTANDING\n",
        "hot_encoded2 = hot_encoded2.rename(columns={'Arbitrary Inference': 'Arbitrary Inference2', 'Black and White Thinking': 'Black and White Thinking2', 'Catastrophizing': 'Catastrophizing2', 'Labeling': 'Labeling2', 'Not Distorted': 'Not Distorted2', 'Overgeneralization': 'Overgeneralization2', 'Personalization': 'Personalization2', 'Selective Abstraction': 'Selective Abstraction2'})"
      ],
      "metadata": {
        "id": "IgEhLoV6zrM_"
      },
      "execution_count": 40,
      "outputs": []
    },
    {
      "cell_type": "markdown",
      "source": [
        "Join Annotator 1 + Annotator 2 hot_encoded dataframes into one"
      ],
      "metadata": {
        "id": "b0ja0ToPyRKV"
      }
    },
    {
      "cell_type": "code",
      "source": [
        "hot_encoded_both = pd.merge(hot_encoded, hot_encoded2, on=['unique_id', 'text', 'note_1_x', 'note_1_y'], how = 'right')\n",
        "\n",
        "hot_encoded_both.pop('label_1_x_encoded_y')\n",
        "hot_encoded_both.pop('label_1_y_encoded_y')\n",
        "hot_encoded_both.pop('label_1_x_y')\n",
        "hot_encoded_both.pop('label_1_y_y')\n",
        "\n",
        "hot_encoded_both = hot_encoded_both.rename(columns = {'label_1_x_x': 'label_1', 'label_1_y_x': 'label_2', 'label_1_x_encoded_x': 'binary label_1', 'label_1_y_encoded_x': 'binary label_2'})"
      ],
      "metadata": {
        "id": "es6J7OIA7vM1"
      },
      "execution_count": 41,
      "outputs": []
    },
    {
      "cell_type": "code",
      "source": [
        "#hot_encoded_both.head(3)"
      ],
      "metadata": {
        "id": "RMLJC2-lVy0f"
      },
      "execution_count": 42,
      "outputs": []
    },
    {
      "cell_type": "code",
      "source": [
        "list_ = []\n",
        "for idx, row in hot_encoded_both.iterrows():\n",
        "  #print(frozenset([row['label_1']]))\n",
        "  if row['label_1'] == None or len(row['label_1']) == 0:\n",
        "    list_.append(('1', str(idx), frozenset(['NONE'])))\n",
        "  elif row['label_1'] != None:\n",
        "    list_.append(('1', str(idx), frozenset([row['label_1']])))\n",
        "  if row['label_2'] == None or len(row['label_2']) == 0:\n",
        "    list_.append(('2', str(idx), frozenset(['NONE'])))\n",
        "  elif row['label_2'] != None:\n",
        "    list_.append(('2', str(idx), frozenset([row['label_2']])))\n",
        "\n",
        "labels = ['Arbitrary Inference', 'Black and White Thinking', \t'Catastrophizing',\t'Labeling',\t'Overgeneralization', 'Personalization',\t'Selective Abstraction']\n",
        "kappas = {'Arbitrary Inference':0, 'Black and White Thinking':0, \t'Catastrophizing':0,\t'Labeling':0,\t'Overgeneralization':0, 'Personalization':0,\t'Selective Abstraction':0}\n",
        "\n",
        "tuples2 = []\n",
        "\n",
        "for label in labels:\n",
        "  # iterate over the whole dataset and fill in the tuples\n",
        "  for row in list_:\n",
        "    rowList = list(row)\n",
        "    if label in rowList[2]:\n",
        "      rowList[2] = 1\n",
        "    else:\n",
        "      rowList[2] = 0\n",
        "    tuples2.append(tuple(rowList))\n",
        "\n",
        "  # initialize AnnotationTask\n",
        "  task = AnnotationTask(data = tuples2)\n",
        "\n",
        "  # get the Kappa value\n",
        "  kappa = task.multi_kappa()\n",
        "  kappas[label] = kappa\n",
        "  tuples2 = []\n",
        "\n",
        "kappas"
      ],
      "metadata": {
        "colab": {
          "base_uri": "https://localhost:8080/"
        },
        "id": "S9nKhxpmb59g",
        "outputId": "f0b2d561-e94a-47a8-b0fe-03ccf547d027"
      },
      "execution_count": 43,
      "outputs": [
        {
          "output_type": "execute_result",
          "data": {
            "text/plain": [
              "{'Arbitrary Inference': -0.06335581442877611,\n",
              " 'Black and White Thinking': -0.009853834784038963,\n",
              " 'Catastrophizing': 0.25513833455513013,\n",
              " 'Labeling': 0.2345274023531478,\n",
              " 'Overgeneralization': 0.12285581826611097,\n",
              " 'Personalization': 0.09569329845039273,\n",
              " 'Selective Abstraction': 0.10494905385735236}"
            ]
          },
          "metadata": {},
          "execution_count": 43
        }
      ]
    },
    {
      "cell_type": "markdown",
      "source": [
        "## Intersection VOL 1 - methodical intersection"
      ],
      "metadata": {
        "id": "sUolEIx_Hj77"
      }
    },
    {
      "cell_type": "code",
      "source": [
        "#PREPARING NEW DATASET FOR INTERSECTION AS A COPY FROM ENCODED DATASET\n",
        "intersection = copy.deepcopy(hot_encoded_both)\n",
        "intersection.pop('binary label_1')\n",
        "intersection.pop('binary label_2')"
      ],
      "metadata": {
        "colab": {
          "base_uri": "https://localhost:8080/"
        },
        "id": "uWuW-de7Hlpr",
        "outputId": "b0ca61ca-c491-41ba-c0f4-573ea2e172cb"
      },
      "execution_count": 44,
      "outputs": [
        {
          "output_type": "execute_result",
          "data": {
            "text/plain": [
              "0          Distorted\n",
              "1          Distorted\n",
              "2          Distorted\n",
              "3          Distorted\n",
              "4      Not Distorted\n",
              "           ...      \n",
              "468    Not Distorted\n",
              "469    Not Distorted\n",
              "470    Not Distorted\n",
              "471    Not Distorted\n",
              "472    Not Distorted\n",
              "Name: binary label_2, Length: 473, dtype: object"
            ]
          },
          "metadata": {},
          "execution_count": 44
        }
      ]
    },
    {
      "cell_type": "code",
      "source": [
        "#APPLY INTERSECTION LOGIC TO LABELS\n",
        "label_1s = list(intersection['label_1'])\n",
        "label_2s = list(intersection['label_2'])\n",
        "\n",
        "intersection_results = []\n",
        "\n",
        "for idx, element in enumerate(label_1s):\n",
        "  #print(element,label_2s[idx]) \n",
        "  if (element == None or len(element)==0) and label_2s[idx] != None:\n",
        "    intersection_results.append(label_2s[idx])\n",
        "  elif (label_2s[idx] == None or len(label_2s[idx])==0) and element != None:\n",
        "    intersection_results.append(element)\n",
        "  elif element == ['Not Distorted'] or label_2s[idx] == ['Not Distorted']:\n",
        "    intersection_results.append('Not Distorted')\n",
        "  #elif len(list(set(element) & set(label_2s[idx]))) > 0:\n",
        "    #intersection_results.append(list(set(element) & set(label_2s[idx])))\n",
        "  elif element == label_2s[idx]:\n",
        "    intersection_results.append(element)\n",
        "  elif element not in [None, \"\", [\"Not Distorted\"]] and label_2s[idx] not in [None, \"\", [\"Not Distorted\"]]:\n",
        "    intersection_results.append('Not Distorted')"
      ],
      "metadata": {
        "id": "s-YT9EIXp8fl"
      },
      "execution_count": 45,
      "outputs": []
    },
    {
      "cell_type": "code",
      "source": [
        "#HAVE A LOOK AT THE RESULTS\n",
        "#print(label_1s)\n",
        "#print(label_2s)\n",
        "#print(intersection_results)\n",
        "print(len(intersection_results))"
      ],
      "metadata": {
        "colab": {
          "base_uri": "https://localhost:8080/"
        },
        "id": "FA2Y58YzCNox",
        "outputId": "92aa495c-ddaf-400e-ecc4-c5f1709e9cdc"
      },
      "execution_count": 46,
      "outputs": [
        {
          "output_type": "stream",
          "name": "stdout",
          "text": [
            "473\n"
          ]
        }
      ]
    },
    {
      "cell_type": "code",
      "source": [
        "#ADD THE INTERSECTION LABELS TO THE DATASET AND REMOVE UNNECESSARY COLUMNS\n",
        "intersection['intersection_label'] = intersection_results\n",
        "intersection_clean = intersection[['unique_id', 'text', 'label_1', 'label_2', 'intersection_label']]\n",
        "#intersection_clean.head()"
      ],
      "metadata": {
        "id": "qsoo14Z4CpwW"
      },
      "execution_count": 47,
      "outputs": []
    },
    {
      "cell_type": "code",
      "source": [
        "#HAVE A LOOK AT THE LABEL DISTRIBUTION FOR INTERSECTION DATASET\n",
        "intersection_clean['intersection_label'].apply(lambda x: str(x)).value_counts()"
      ],
      "metadata": {
        "colab": {
          "base_uri": "https://localhost:8080/"
        },
        "id": "-zSpx3rxEaw_",
        "outputId": "457aa89b-3737-4a13-91a4-047e4aabc1ed"
      },
      "execution_count": 48,
      "outputs": [
        {
          "output_type": "execute_result",
          "data": {
            "text/plain": [
              "Not Distorted               409\n",
              "Catastrophizing              43\n",
              "Labeling                      9\n",
              "Overgeneralization            4\n",
              "Personalization               4\n",
              "Selective Abstraction         2\n",
              "Arbitrary Inference           1\n",
              "Black and White Thinking      1\n",
              "Name: intersection_label, dtype: int64"
            ]
          },
          "metadata": {},
          "execution_count": 48
        }
      ]
    },
    {
      "cell_type": "markdown",
      "source": [
        "# Intersection VOL2 - all or nothing intersection"
      ],
      "metadata": {
        "id": "TBqFnz6upfT9"
      }
    },
    {
      "cell_type": "code",
      "source": [
        "intersection_2_test = copy.deepcopy(intersection)\n",
        "intersection_2_test = intersection_2_test[['text', 'label_1', 'label_2']]\n",
        "\n",
        "label_1s = list(intersection['label_1'])\n",
        "label_2s = list(intersection['label_2'])\n",
        "\n",
        "intersection_results = []\n",
        "\n",
        "for idx, element in enumerate(label_1s):\n",
        "  if element == None and label_2s[idx] != None:\n",
        "    intersection_results.append([intersection_2_test['text'].loc[idx], label_2s[idx]])\n",
        "  elif element != None and label_2s[idx] == None:\n",
        "    intersection_results.append([intersection_2_test['text'].loc[idx], element])\n",
        "  elif element == label_2s[idx]:\n",
        "    intersection_results.append([intersection_2_test['text'].loc[idx], element])\n"
      ],
      "metadata": {
        "id": "KDbgKbPo0YEt"
      },
      "execution_count": 49,
      "outputs": []
    },
    {
      "cell_type": "code",
      "source": [
        "intersection_df = pd.DataFrame(intersection_results, columns = ['text', 'label'])\n",
        "intersection_df.head()"
      ],
      "metadata": {
        "colab": {
          "base_uri": "https://localhost:8080/",
          "height": 206
        },
        "id": "1MAS1zfe2A7w",
        "outputId": "84df898f-67c3-43a3-adf1-b55e9e55790a"
      },
      "execution_count": 50,
      "outputs": [
        {
          "output_type": "execute_result",
          "data": {
            "text/plain": [
              "                                                text            label\n",
              "0  I'm sure most people probably figured this is ...  Catastrophizing\n",
              "1  I've started to realise my nausea is mostly ca...    Not Distorted\n",
              "2  Every single day that I get my work done witho...    Not Distorted\n",
              "3  For a long long time I have found it difficult...    Not Distorted\n",
              "4  I’m sorry. I know it hurts. I know the pain of...    Not Distorted"
            ],
            "text/html": [
              "\n",
              "  <div id=\"df-0ea98cf5-8cb3-450f-83e5-01b8181174a7\">\n",
              "    <div class=\"colab-df-container\">\n",
              "      <div>\n",
              "<style scoped>\n",
              "    .dataframe tbody tr th:only-of-type {\n",
              "        vertical-align: middle;\n",
              "    }\n",
              "\n",
              "    .dataframe tbody tr th {\n",
              "        vertical-align: top;\n",
              "    }\n",
              "\n",
              "    .dataframe thead th {\n",
              "        text-align: right;\n",
              "    }\n",
              "</style>\n",
              "<table border=\"1\" class=\"dataframe\">\n",
              "  <thead>\n",
              "    <tr style=\"text-align: right;\">\n",
              "      <th></th>\n",
              "      <th>text</th>\n",
              "      <th>label</th>\n",
              "    </tr>\n",
              "  </thead>\n",
              "  <tbody>\n",
              "    <tr>\n",
              "      <th>0</th>\n",
              "      <td>I'm sure most people probably figured this is ...</td>\n",
              "      <td>Catastrophizing</td>\n",
              "    </tr>\n",
              "    <tr>\n",
              "      <th>1</th>\n",
              "      <td>I've started to realise my nausea is mostly ca...</td>\n",
              "      <td>Not Distorted</td>\n",
              "    </tr>\n",
              "    <tr>\n",
              "      <th>2</th>\n",
              "      <td>Every single day that I get my work done witho...</td>\n",
              "      <td>Not Distorted</td>\n",
              "    </tr>\n",
              "    <tr>\n",
              "      <th>3</th>\n",
              "      <td>For a long long time I have found it difficult...</td>\n",
              "      <td>Not Distorted</td>\n",
              "    </tr>\n",
              "    <tr>\n",
              "      <th>4</th>\n",
              "      <td>I’m sorry. I know it hurts. I know the pain of...</td>\n",
              "      <td>Not Distorted</td>\n",
              "    </tr>\n",
              "  </tbody>\n",
              "</table>\n",
              "</div>\n",
              "      <button class=\"colab-df-convert\" onclick=\"convertToInteractive('df-0ea98cf5-8cb3-450f-83e5-01b8181174a7')\"\n",
              "              title=\"Convert this dataframe to an interactive table.\"\n",
              "              style=\"display:none;\">\n",
              "        \n",
              "  <svg xmlns=\"http://www.w3.org/2000/svg\" height=\"24px\"viewBox=\"0 0 24 24\"\n",
              "       width=\"24px\">\n",
              "    <path d=\"M0 0h24v24H0V0z\" fill=\"none\"/>\n",
              "    <path d=\"M18.56 5.44l.94 2.06.94-2.06 2.06-.94-2.06-.94-.94-2.06-.94 2.06-2.06.94zm-11 1L8.5 8.5l.94-2.06 2.06-.94-2.06-.94L8.5 2.5l-.94 2.06-2.06.94zm10 10l.94 2.06.94-2.06 2.06-.94-2.06-.94-.94-2.06-.94 2.06-2.06.94z\"/><path d=\"M17.41 7.96l-1.37-1.37c-.4-.4-.92-.59-1.43-.59-.52 0-1.04.2-1.43.59L10.3 9.45l-7.72 7.72c-.78.78-.78 2.05 0 2.83L4 21.41c.39.39.9.59 1.41.59.51 0 1.02-.2 1.41-.59l7.78-7.78 2.81-2.81c.8-.78.8-2.07 0-2.86zM5.41 20L4 18.59l7.72-7.72 1.47 1.35L5.41 20z\"/>\n",
              "  </svg>\n",
              "      </button>\n",
              "      \n",
              "  <style>\n",
              "    .colab-df-container {\n",
              "      display:flex;\n",
              "      flex-wrap:wrap;\n",
              "      gap: 12px;\n",
              "    }\n",
              "\n",
              "    .colab-df-convert {\n",
              "      background-color: #E8F0FE;\n",
              "      border: none;\n",
              "      border-radius: 50%;\n",
              "      cursor: pointer;\n",
              "      display: none;\n",
              "      fill: #1967D2;\n",
              "      height: 32px;\n",
              "      padding: 0 0 0 0;\n",
              "      width: 32px;\n",
              "    }\n",
              "\n",
              "    .colab-df-convert:hover {\n",
              "      background-color: #E2EBFA;\n",
              "      box-shadow: 0px 1px 2px rgba(60, 64, 67, 0.3), 0px 1px 3px 1px rgba(60, 64, 67, 0.15);\n",
              "      fill: #174EA6;\n",
              "    }\n",
              "\n",
              "    [theme=dark] .colab-df-convert {\n",
              "      background-color: #3B4455;\n",
              "      fill: #D2E3FC;\n",
              "    }\n",
              "\n",
              "    [theme=dark] .colab-df-convert:hover {\n",
              "      background-color: #434B5C;\n",
              "      box-shadow: 0px 1px 3px 1px rgba(0, 0, 0, 0.15);\n",
              "      filter: drop-shadow(0px 1px 2px rgba(0, 0, 0, 0.3));\n",
              "      fill: #FFFFFF;\n",
              "    }\n",
              "  </style>\n",
              "\n",
              "      <script>\n",
              "        const buttonEl =\n",
              "          document.querySelector('#df-0ea98cf5-8cb3-450f-83e5-01b8181174a7 button.colab-df-convert');\n",
              "        buttonEl.style.display =\n",
              "          google.colab.kernel.accessAllowed ? 'block' : 'none';\n",
              "\n",
              "        async function convertToInteractive(key) {\n",
              "          const element = document.querySelector('#df-0ea98cf5-8cb3-450f-83e5-01b8181174a7');\n",
              "          const dataTable =\n",
              "            await google.colab.kernel.invokeFunction('convertToInteractive',\n",
              "                                                     [key], {});\n",
              "          if (!dataTable) return;\n",
              "\n",
              "          const docLinkHtml = 'Like what you see? Visit the ' +\n",
              "            '<a target=\"_blank\" href=https://colab.research.google.com/notebooks/data_table.ipynb>data table notebook</a>'\n",
              "            + ' to learn more about interactive tables.';\n",
              "          element.innerHTML = '';\n",
              "          dataTable['output_type'] = 'display_data';\n",
              "          await google.colab.output.renderOutput(dataTable, element);\n",
              "          const docLink = document.createElement('div');\n",
              "          docLink.innerHTML = docLinkHtml;\n",
              "          element.appendChild(docLink);\n",
              "        }\n",
              "      </script>\n",
              "    </div>\n",
              "  </div>\n",
              "  "
            ]
          },
          "metadata": {},
          "execution_count": 50
        }
      ]
    },
    {
      "cell_type": "code",
      "source": [
        "intersection_df['label'].value_counts()"
      ],
      "metadata": {
        "colab": {
          "base_uri": "https://localhost:8080/"
        },
        "id": "hp47NGlI2XHl",
        "outputId": "a0280aa6-d7fa-4e2a-ea20-648c4c232701"
      },
      "execution_count": 51,
      "outputs": [
        {
          "output_type": "execute_result",
          "data": {
            "text/plain": [
              "Not Distorted               152\n",
              "Catastrophizing              43\n",
              "Labeling                      9\n",
              "Overgeneralization            4\n",
              "Personalization               4\n",
              "Selective Abstraction         2\n",
              "Arbitrary Inference           1\n",
              "Black and White Thinking      1\n",
              "Name: label, dtype: int64"
            ]
          },
          "metadata": {},
          "execution_count": 51
        }
      ]
    },
    {
      "cell_type": "markdown",
      "source": [
        "# Data Preprocessing - Intersection VOL 1"
      ],
      "metadata": {
        "id": "n1UpAFVpsiIX"
      }
    },
    {
      "cell_type": "code",
      "source": [
        "distortions = ['Overgeneralization', 'Personalization', 'Selective Abstraction', 'Arbitrary Inference', 'Black and White Thinking']"
      ],
      "metadata": {
        "id": "ARBi_RZmsm6H"
      },
      "execution_count": 52,
      "outputs": []
    },
    {
      "cell_type": "code",
      "source": [
        "intersection_clean['intersection_label_new'] = intersection_clean['intersection_label'].apply(lambda x: 'Other distortion' if x in distortions else x)"
      ],
      "metadata": {
        "colab": {
          "base_uri": "https://localhost:8080/"
        },
        "id": "wopQgghYsm_Y",
        "outputId": "c8a8fd27-96ad-43f8-b1ea-ccc28790ef16"
      },
      "execution_count": 53,
      "outputs": [
        {
          "output_type": "stream",
          "name": "stderr",
          "text": [
            "/usr/local/lib/python3.7/dist-packages/ipykernel_launcher.py:1: SettingWithCopyWarning: \n",
            "A value is trying to be set on a copy of a slice from a DataFrame.\n",
            "Try using .loc[row_indexer,col_indexer] = value instead\n",
            "\n",
            "See the caveats in the documentation: https://pandas.pydata.org/pandas-docs/stable/user_guide/indexing.html#returning-a-view-versus-a-copy\n",
            "  \"\"\"Entry point for launching an IPython kernel.\n"
          ]
        }
      ]
    },
    {
      "cell_type": "code",
      "source": [
        "intersection_clean['intersection_label_new'].value_counts()"
      ],
      "metadata": {
        "colab": {
          "base_uri": "https://localhost:8080/"
        },
        "id": "fV8whR3msnCj",
        "outputId": "5902a2dd-6540-4241-db28-aa96115e469b"
      },
      "execution_count": 54,
      "outputs": [
        {
          "output_type": "execute_result",
          "data": {
            "text/plain": [
              "Not Distorted       409\n",
              "Catastrophizing      43\n",
              "Other distortion     12\n",
              "Labeling              9\n",
              "Name: intersection_label_new, dtype: int64"
            ]
          },
          "metadata": {},
          "execution_count": 54
        }
      ]
    },
    {
      "cell_type": "markdown",
      "source": [
        "# Data Preprocessing - Intersection VOL 2"
      ],
      "metadata": {
        "id": "Qn0ZY7qNvlyH"
      }
    },
    {
      "cell_type": "code",
      "source": [
        "distortions = ['Overgeneralization', 'Personalization', 'Selective Abstraction', 'Arbitrary Inference', 'Black and White Thinking']"
      ],
      "metadata": {
        "id": "J_9Xf-nLvrKE"
      },
      "execution_count": 55,
      "outputs": []
    },
    {
      "cell_type": "code",
      "source": [
        "intersection_df['label_new'] = intersection_df['label'].apply(lambda x: 'Other distortion' if x in distortions else x)"
      ],
      "metadata": {
        "id": "2ufFFpiAvrNH"
      },
      "execution_count": 56,
      "outputs": []
    },
    {
      "cell_type": "code",
      "source": [
        "intersection_df['label_new'].value_counts()"
      ],
      "metadata": {
        "colab": {
          "base_uri": "https://localhost:8080/"
        },
        "id": "AQgFMYefvrRT",
        "outputId": "2c29061c-1660-4d9e-e647-558e04a8307d"
      },
      "execution_count": 57,
      "outputs": [
        {
          "output_type": "execute_result",
          "data": {
            "text/plain": [
              "Not Distorted       152\n",
              "Catastrophizing      43\n",
              "Other distortion     12\n",
              "Labeling              9\n",
              "Name: label_new, dtype: int64"
            ]
          },
          "metadata": {},
          "execution_count": 57
        }
      ]
    },
    {
      "cell_type": "code",
      "source": [
        "#REMOVAL OF LINE BREAKS\n",
        "intersection_df['text'] = intersection_df['text'].replace('\\n',' ', regex=True)"
      ],
      "metadata": {
        "id": "s386jyDlu_-W"
      },
      "execution_count": 58,
      "outputs": []
    },
    {
      "cell_type": "code",
      "source": [
        "#PUT UNION BINARY LABEL AS A SEPARATE COLUMN TO THE DATASET\n",
        "intersection_labels_list = list(intersection_df['label_new'])\n",
        "intersection_labels_list_binary = []\n",
        "\n",
        "for label in intersection_labels_list:\n",
        "  if label == 'Not Distorted':\n",
        "    intersection_labels_list_binary.append(0)\n",
        "  else:\n",
        "    intersection_labels_list_binary.append(1)\n",
        "\n",
        "intersection_df['binary'] = pd.Series(intersection_labels_list_binary)"
      ],
      "metadata": {
        "id": "XJxgb46nxJoE"
      },
      "execution_count": 59,
      "outputs": []
    },
    {
      "cell_type": "code",
      "source": [
        "#PUT UNION BINARY LABEL AS A SEPARATE COLUMN TO THE DATASET\n",
        "intersection_labels_list = list(intersection_df['binary'])\n",
        "intersection_labels_list_binary = []\n",
        "\n",
        "for label in intersection_labels_list:\n",
        "  if label == 0:\n",
        "    intersection_labels_list_binary.append('Not Distorted')\n",
        "  else:\n",
        "    intersection_labels_list_binary.append('Distorted')\n",
        "\n",
        "intersection_df['label_binary'] = pd.Series(intersection_labels_list_binary)"
      ],
      "metadata": {
        "id": "gPWWBQ708U6b"
      },
      "execution_count": 60,
      "outputs": []
    },
    {
      "cell_type": "code",
      "source": [
        "distortions = ['Overgeneralization', 'Personalization', 'Selective Abstraction', 'Arbitrary Inference', 'Black and White Thinking', 'Labeling']"
      ],
      "metadata": {
        "id": "JNAUs_UqzNiH"
      },
      "execution_count": 61,
      "outputs": []
    },
    {
      "cell_type": "code",
      "source": [
        "intersection_df['label_new_2'] = intersection_df['label'].apply(lambda x: 'Other distortion' if x in distortions else x)"
      ],
      "metadata": {
        "id": "I7BtIR4vzNlA"
      },
      "execution_count": 62,
      "outputs": []
    },
    {
      "cell_type": "code",
      "source": [
        "intersection_df['label_new_2'].value_counts()"
      ],
      "metadata": {
        "colab": {
          "base_uri": "https://localhost:8080/"
        },
        "id": "1jNODZeEzNnX",
        "outputId": "e008965f-e9aa-435c-ed22-9e8128c5f5a1"
      },
      "execution_count": 63,
      "outputs": [
        {
          "output_type": "execute_result",
          "data": {
            "text/plain": [
              "Not Distorted       152\n",
              "Catastrophizing      43\n",
              "Other distortion     21\n",
              "Name: label_new_2, dtype: int64"
            ]
          },
          "metadata": {},
          "execution_count": 63
        }
      ]
    },
    {
      "cell_type": "code",
      "source": [
        "#Save union dataset as JSON\n",
        "#intersection_df.to_json('intersection_df.json', orient=\"records\", lines = True)"
      ],
      "metadata": {
        "id": "S6AeT7npzNpF"
      },
      "execution_count": 64,
      "outputs": []
    }
  ]
}